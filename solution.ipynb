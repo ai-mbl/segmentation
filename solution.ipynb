{
 "cells": [
  {
   "cell_type": "markdown",
   "id": "d9453d89",
   "metadata": {},
   "source": [
    "# Segmentation\n",
    "\n",
    "<hr style=\"height:2px;\">\n",
    "\n",
    "<div class=\"alert alert-info\">\n",
    "\n",
    "This exercise has two parts:\n",
    "- **Semantic Segmentation**, where we adapt our 2D U-Net for better nuclei segmentations of the Kaggle Nuclei dataset.\n",
    "- **Instance Segmentation**, where we adapt our 2D U-Net for instance segmentations of cells in the TissueNet dataset.\n",
    "</div>\n",
    "\n",
    "Written by William Patton, Vijay Venu, Valentyna Zinchenko, and Constantin Pape."
   ]
  },
  {
   "cell_type": "markdown",
   "id": "b27a47ca",
   "metadata": {},
   "source": [
    "<div class=\"alert alert-block alert-danger\">\n",
    "<b>Conda Kernel</b>: Please use the kernel <code style=\"color: black\">03-segmentation</code> for this exercise\n",
    "</div>"
   ]
  },
  {
   "cell_type": "markdown",
   "id": "636417b0",
   "metadata": {},
   "source": [
    "<hr style=\"height:2px;\">\n",
    "\n",
    "## The libraries"
   ]
  },
  {
   "cell_type": "code",
   "execution_count": null,
   "id": "8d31bee8",
   "metadata": {},
   "outputs": [],
   "source": [
    "%matplotlib inline\n",
    "%load_ext autoreload\n",
    "%autoreload 2\n",
    "\n",
    "import subprocess\n",
    "import torch\n",
    "from torch.utils.data import DataLoader\n",
    "from torch.utils.tensorboard import SummaryWriter\n",
    "import torch.nn as nn\n",
    "\n",
    "import torchvision.transforms.v2 as transforms_v2"
   ]
  },
  {
   "cell_type": "code",
   "execution_count": null,
   "id": "1bd2ea14",
   "metadata": {},
   "outputs": [],
   "source": [
    "device = torch.device(\"cuda\") if torch.cuda.is_available() else torch.device(\"cpu\")"
   ]
  },
  {
   "cell_type": "code",
   "execution_count": null,
   "id": "02f8ee58",
   "metadata": {
    "lines_to_next_cell": 2
   },
   "outputs": [],
   "source": [
    "# make sure gpu is available. Please call a TA if this cell fails\n",
    "assert torch.cuda.is_available()"
   ]
  },
  {
   "cell_type": "markdown",
   "id": "a5205241",
   "metadata": {},
   "source": [
    "# Part I: Semantic Segmentation\n",
    "\n",
    "<div class=\"alert alert-info\">\n",
    "\n",
    "**Overview:**\n",
    "\n",
    "1. Prepare the 2D U-Net baseline model and validation dataset.\n",
    "2. Implement and use the Dice coefficient as an evaluation metric for the baseline model.\n",
    "3. Improve metrics by experimenting with:\n",
    "    - Data augmentations\n",
    "    - Loss functions\n",
    "    - (bonus) Group Normalization, U-Net architecture\n",
    "</div>\n",
    "\n",
    "## Section 0: What we have so far\n",
    "\n",
    "You have already implemented a U-Net architecture in the previous exercise. We will use it as a starting point for this exercise.\n",
    "You should also already have the dataset and the dataloader implemented, along with a simple train loop with MSELoss.\n",
    "Let us go ahead and visualize some of the data along with some predictions to see how we are doing."
   ]
  },
  {
   "cell_type": "markdown",
   "id": "db627d34",
   "metadata": {},
   "source": [
    "Our goal is to produce a model that can take an image as input and produce a segmentation as shown in this table.\n",
    "\n",
    "| Image | Mask | Prediction |\n",
    "| :-: | :-: | :-: |\n",
    "| ![image](static/img_0.png) | ![mask](static/mask_0.png) | ![pred](static/pred_0.png) |\n",
    "| ![image](static/img_1.png) | ![mask](static/mask_1.png) | ![pred](static/pred_1.png) |"
   ]
  },
  {
   "cell_type": "code",
   "execution_count": null,
   "id": "08297900",
   "metadata": {
    "lines_to_next_cell": 2
   },
   "outputs": [],
   "source": [
    "from local import (\n",
    "    NucleiDataset,\n",
    "    show_random_dataset_image,\n",
    "    show_random_dataset_image_with_prediction,\n",
    "    show_random_augmentation_comparison,\n",
    "    train,\n",
    ")\n",
    "from dlmbl_unet import UNet"
   ]
  },
  {
   "cell_type": "markdown",
   "id": "9d129f61",
   "metadata": {
    "lines_to_next_cell": 2
   },
   "source": [
    "\n",
    "*Note*: We are artificially making our validation data worse. This dataset\n",
    "was chosen to be reasonable to segment in the amount of time it takes to\n",
    "run this exercise. However this means that some techniques like augmentations\n",
    "aren't as useful as they would be on a more complex dataset. So we are\n",
    "artificially adding noise to the validation data to make it more challenging."
   ]
  },
  {
   "cell_type": "code",
   "execution_count": null,
   "id": "cd9eacff",
   "metadata": {},
   "outputs": [],
   "source": [
    "def salt_and_pepper_noise(image, amount=0.05):\n",
    "    \"\"\"\n",
    "    Add salt and pepper noise to an image\n",
    "    \"\"\"\n",
    "    out = image.clone()\n",
    "    num_salt = int(amount * image.numel() * 0.5)\n",
    "    num_pepper = int(amount * image.numel() * 0.5)\n",
    "\n",
    "    # Add Salt noise\n",
    "    coords = [\n",
    "        torch.randint(0, i - 1, [num_salt]) if i > 1 else [0] * num_salt\n",
    "        for i in image.shape\n",
    "    ]\n",
    "    out[tuple(coords)] = 1\n",
    "\n",
    "    # Add Pepper noise\n",
    "    coords = [\n",
    "        torch.randint(0, i - 1, [num_pepper]) if i > 1 else [0] * num_pepper\n",
    "        for i in image.shape\n",
    "    ]\n",
    "    out[tuple(coords)] = 0\n",
    "\n",
    "    return out"
   ]
  },
  {
   "cell_type": "code",
   "execution_count": null,
   "id": "8de55b05",
   "metadata": {},
   "outputs": [],
   "source": [
    "train_data = NucleiDataset(\"nuclei_train_data\", transforms_v2.RandomCrop(256))\n",
    "train_loader = DataLoader(train_data, batch_size=5, shuffle=True, num_workers=8)\n",
    "val_data = NucleiDataset(\n",
    "    \"nuclei_val_data\",\n",
    "    transforms_v2.RandomCrop(256),\n",
    "    img_transform=transforms_v2.Lambda(salt_and_pepper_noise),\n",
    ")\n",
    "val_loader = DataLoader(val_data, batch_size=5)"
   ]
  },
  {
   "cell_type": "code",
   "execution_count": null,
   "id": "216758c6",
   "metadata": {},
   "outputs": [],
   "source": [
    "unet = UNet(depth=4, in_channels=1, out_channels=1, num_fmaps=2).to(device)\n",
    "loss = nn.MSELoss()\n",
    "optimizer = torch.optim.Adam(unet.parameters())\n",
    "\n",
    "for epoch in range(10):\n",
    "    train(unet, train_loader, optimizer, loss, epoch, device=device)"
   ]
  },
  {
   "cell_type": "code",
   "execution_count": null,
   "id": "6beed97b",
   "metadata": {
    "lines_to_next_cell": 2
   },
   "outputs": [],
   "source": [
    "# Show some predictions on the train data\n",
    "show_random_dataset_image_with_prediction(train_data, unet, device)"
   ]
  },
  {
   "cell_type": "code",
   "execution_count": null,
   "id": "281d2310",
   "metadata": {
    "lines_to_next_cell": 0
   },
   "outputs": [],
   "source": [
    "# Show some predictions on the validation data\n",
    "show_random_dataset_image_with_prediction(val_data, unet, device)"
   ]
  },
  {
   "cell_type": "markdown",
   "id": "086d6f88",
   "metadata": {},
   "source": [
    "\n",
    "<div class=\"alert alert-block alert-info\">\n",
    "    <p><b>Task 0.1</b>: Are the predictions good enough? Take some time to try to think about\n",
    "    what could be improved and how that could be addressed. If you have time try training a second\n",
    "    model and see which one is better</p>\n",
    "</div>"
   ]
  },
  {
   "cell_type": "markdown",
   "id": "e2f038db",
   "metadata": {
    "tags": [
     "solution"
    ]
   },
   "source": [
    "Write your answers here:\n",
    "<ol>\n",
    "    <li> Evaluation metric for better understanding of model performance so we can compare. </li>\n",
    "    <li> Augments for generalization to validaiton. </li>\n",
    "    <li> Loss function for better performance on lower prevalence classes. </li>\n",
    "</ol>"
   ]
  },
  {
   "cell_type": "markdown",
   "id": "35df7a61",
   "metadata": {},
   "source": [
    "<div class=\"alert alert-block alert-success\">\n",
    "<h2> Checkpoint 0 </h2>\n",
    "<p>We will go over the steps up to this point soon. By this point you should have imported and re-used\n",
    "code from previous exercises to train a basic UNet.</p>\n",
    "<p>The rest of this exercise will focus on tailoring our network to semantic segmentation to improve\n",
    "performance. The main areas we will tackle are:</p>\n",
    "<ol>\n",
    "  <li> Evaluation\n",
    "  <li> Augmentation\n",
    "  <li> Activations/Loss Functions\n",
    "</ol>\n",
    "\n",
    "</div>"
   ]
  },
  {
   "cell_type": "markdown",
   "id": "23b4eca9",
   "metadata": {},
   "source": [
    "<hr style=\"height:2px;\">\n",
    "\n",
    "## Section 1: Evaluation"
   ]
  },
  {
   "cell_type": "markdown",
   "id": "8bbf6e0c",
   "metadata": {
    "lines_to_next_cell": 0
   },
   "source": [
    "One of the most important parts of training a model is evaluating it. We need to know how well our model is doing and if it is improving.\n",
    "We will start by implementing a metric to evaluate our model. Evaluation is always specific to the task, in this case semantic segmentation.\n",
    "We will use the [Dice Coefficient](https://en.wikipedia.org/wiki/S%C3%B8rensen%E2%80%93Dice_coefficient) to evaluate the network predictions.\n",
    "We can use it for validation if we interpret set $a$ as predictions and $b$ as labels. It is often used to evaluate segmentations with sparse\n",
    "foreground, because the denominator normalizes by the number of foreground pixels.\n",
    "The Dice Coefficient is closely related to Jaccard Index / Intersection over Union."
   ]
  },
  {
   "cell_type": "markdown",
   "id": "e45aac9d",
   "metadata": {
    "lines_to_next_cell": 2
   },
   "source": [
    "<div class=\"alert alert-block alert-info\">\n",
    "<b>Task 1.1</b>: Fill in implementation details for the Dice Coefficient. You can do this without using any torch or numpy functions.\n",
    "</div>"
   ]
  },
  {
   "cell_type": "code",
   "execution_count": null,
   "id": "6d1c7a79",
   "metadata": {
    "tags": [
     "solution"
    ]
   },
   "outputs": [],
   "source": [
    "# sorensen dice coefficient implemented in torch\n",
    "# the coefficient takes values in two discrete arrays\n",
    "# with values in {0, 1}, and produces a score in [0, 1]\n",
    "# where 0 is the worst score, 1 is the best score\n",
    "class DiceCoefficient(nn.Module):\n",
    "    def __init__(self, eps=1e-6):\n",
    "        super().__init__()\n",
    "        self.eps = eps\n",
    "\n",
    "    # the dice coefficient of two sets represented as vectors a, b ca be\n",
    "    # computed as (2 *|a b| / (a^2 + b^2))\n",
    "    def forward(self, prediction, target):\n",
    "        intersection = (prediction * target).sum()\n",
    "        union = (prediction * prediction).sum() + (target * target).sum()\n",
    "        return 2 * intersection / union.clamp(min=self.eps)"
   ]
  },
  {
   "cell_type": "markdown",
   "id": "97ddf9d2",
   "metadata": {},
   "source": [
    "<div class=\"alert alert-block alert-warning\">\n",
    "    Test your Dice Coefficient here, are you getting the right scores?\n",
    "</div>"
   ]
  },
  {
   "cell_type": "code",
   "execution_count": null,
   "id": "22c9d79e",
   "metadata": {},
   "outputs": [],
   "source": [
    "dice = DiceCoefficient()\n",
    "target = torch.tensor([0.0, 1.0])\n",
    "good_prediction = torch.tensor([0.0, 1.0])\n",
    "bad_prediction = torch.tensor([0.0, 0.0])\n",
    "wrong_prediction = torch.tensor([1.0, 0.0])\n",
    "\n",
    "assert dice(good_prediction, target) == 1.0, dice(good_prediction, target)\n",
    "assert dice(bad_prediction, target) == 0.0, dice(bad_prediction, target)\n",
    "assert dice(wrong_prediction, target) == 0.0, dice(wrong_prediction, target)"
   ]
  },
  {
   "cell_type": "markdown",
   "id": "82861dbd",
   "metadata": {},
   "source": [
    "<div class=\"alert alert-block alert-info\">\n",
    "<b>Task 1.2</b>: What happens if your predictions are not discrete elements of {0,1}?\n",
    "    <ol>\n",
    "        <li>What happens to the Dice score if the predictions are in range (0,1)?</li>\n",
    "        <li>What happens to the Dice score if the predictions are in range ($-\\infty$,$\\infty$)?</li>\n",
    "    </ol>\n",
    "</div>"
   ]
  },
  {
   "cell_type": "markdown",
   "id": "e58602ee",
   "metadata": {
    "tags": [
     "solution"
    ]
   },
   "source": [
    "Answer:\n",
    "1) Score remains between (0,1) with 0 being the worst score and 1 being the best. This case\n",
    "essentially gives you the Dice Loss and can be a good alternative to cross entropy.\n",
    "\n",
    "2) Scores will fall in the range of [-1,1]. Overly confident scores will be penalized i.e.\n",
    "if the target is [0,1] then a prediction of [0,2] will score higher than a prediction of [0,3]."
   ]
  },
  {
   "cell_type": "markdown",
   "id": "9be6036e",
   "metadata": {},
   "source": [
    "<div class=\"alert alert-block alert-success\">\n",
    "    <h2>Checkpoint 1 </h2>\n",
    "\n",
    "This is a good place to stop for a moment. If you have extra time look into some extra\n",
    "evaluation functions or try to implement your own without hints.\n",
    "Some popular alternatives to the Dice Coefficient are the Jaccard Index and Balanced F1 Scores.\n",
    "You may even have time to compute the evaluation score between some of your training and\n",
    "validation predictions to their ground truth using our previous models.\n",
    "\n",
    "</div>\n",
    "\n",
    "<hr style=\"height:2px;\">"
   ]
  },
  {
   "cell_type": "markdown",
   "id": "5ca09030",
   "metadata": {
    "lines_to_next_cell": 2
   },
   "source": [
    "<div class=\"alert alert-block alert-info\">\n",
    "    <b>Task 1.3</b>: Fix in all the TODOs (3) to make the validate function work. If confused, you can use this\n",
    "<a href=\"https://pytorch.org/tutorials/beginner/basics/optimization_tutorial.html\">PyTorch tutorial</a> as a template\n",
    "</div>"
   ]
  },
  {
   "cell_type": "code",
   "execution_count": null,
   "id": "e8819b06",
   "metadata": {
    "tags": [
     "solution"
    ]
   },
   "outputs": [],
   "source": [
    "# run validation after training epoch\n",
    "def validate(\n",
    "    model,\n",
    "    loader,\n",
    "    loss_function,\n",
    "    metric,\n",
    "    step=None,\n",
    "    tb_logger=None,\n",
    "    device=None,\n",
    "):\n",
    "    \"\"\"\n",
    "    Evaluate model performance on validation data.\n",
    "\n",
    "    Args:\n",
    "        model: PyTorch model to validate\n",
    "        loader: DataLoader containing validation data\n",
    "        loss_function: Loss function to compute validation loss between prediction and target.\n",
    "        metric: Metric function to evaluate segmentation against ground-truth labels.\n",
    "        step: Current training step for logging (required if tb_logger provided)\n",
    "        tb_logger: TensorBoard logger for recording metrics (optional)\n",
    "        device: Torch device to run validation on (optional)\n",
    "\n",
    "    Returns:\n",
    "        None\n",
    "    \"\"\"\n",
    "\n",
    "    if device is None:\n",
    "        # You can pass in a device or we will default to using\n",
    "        # the gpu. Feel free to try training on the cpu to see\n",
    "        # what sort of performance difference there is\n",
    "        if torch.cuda.is_available():\n",
    "            device = torch.device(\"cuda\")\n",
    "        else:\n",
    "            device = torch.device(\"cpu\")\n",
    "\n",
    "    # set model to eval mode\n",
    "    model.eval()\n",
    "    model.to(device)\n",
    "\n",
    "    # running loss and metric values\n",
    "    val_loss = 0\n",
    "    val_metric = 0\n",
    "\n",
    "    # disable gradients during validation\n",
    "    with torch.no_grad():\n",
    "        # iterate over validation loader and update loss and metric values\n",
    "        for x, y in loader:\n",
    "            x, y = x.to(device), y.to(device)\n",
    "            prediction = model(x)\n",
    "            # We *usually* want the target to be the same type as the prediction\n",
    "            # however this is very dependent on your choice of loss function and\n",
    "            # metric. If you get errors such as \"RuntimeError: Found dtype Float but expected Short\"\n",
    "            # then this is where you should look.\n",
    "            if y.dtype != prediction.dtype:\n",
    "                y = y.type(prediction.dtype)\n",
    "            val_loss += loss_function(prediction, y).item()\n",
    "            val_metric += metric(prediction > 0.5, y).item()\n",
    "\n",
    "    # normalize loss and metric\n",
    "    val_loss /= len(loader)\n",
    "    val_metric /= len(loader)\n",
    "\n",
    "    if tb_logger is not None:\n",
    "        assert (\n",
    "            step is not None\n",
    "        ), \"Need to know the current step to log validation results\"\n",
    "        tb_logger.add_scalar(tag=\"val_loss\", scalar_value=val_loss, global_step=step)\n",
    "        tb_logger.add_scalar(\n",
    "            tag=\"val_metric\", scalar_value=val_metric, global_step=step\n",
    "        )\n",
    "        # we always log the last validation images\n",
    "        tb_logger.add_images(tag=\"val_input\", img_tensor=x.to(\"cpu\"), global_step=step)\n",
    "        tb_logger.add_images(tag=\"val_target\", img_tensor=y.to(\"cpu\"), global_step=step)\n",
    "        tb_logger.add_images(\n",
    "            tag=\"val_prediction\", img_tensor=prediction.to(\"cpu\"), global_step=step\n",
    "        )\n",
    "\n",
    "    print(\n",
    "        \"\\nValidate: Average loss: {:.4f}, Average Metric: {:.4f}\\n\".format(\n",
    "            val_loss, val_metric\n",
    "        )\n",
    "    )"
   ]
  },
  {
   "cell_type": "markdown",
   "id": "6d251732",
   "metadata": {},
   "source": [
    "<div class=\"alert alert-block alert-info\">\n",
    "    <b>Task 1.4</b>: Evaluate your first model using the Dice Coefficient. How does it perform? If you trained two models,\n",
    "    do the scores agree with your visual determination of which model was better?\n",
    "</div>"
   ]
  },
  {
   "cell_type": "code",
   "execution_count": null,
   "id": "a86d92cf",
   "metadata": {
    "tags": [
     "solution"
    ]
   },
   "outputs": [],
   "source": [
    "\n",
    "# Evaluate your model here\n",
    "\n",
    "validate(\n",
    "    unet,\n",
    "    val_loader,\n",
    "    loss_function=torch.nn.MSELoss(),\n",
    "    metric=DiceCoefficient(),\n",
    "    step=0,\n",
    "    device=device,\n",
    ")"
   ]
  },
  {
   "cell_type": "markdown",
   "id": "d0c1919c",
   "metadata": {},
   "source": [
    "<div class=\"alert alert-block alert-success\">\n",
    "    <h2>Checkpoint 2</h2>\n",
    "\n",
    "We have finished writing the evaluation function. We will go over the code up to this point soon.\n",
    "Next we will work on augmentations to improve the generalization of our model.\n",
    "\n",
    "</div>\n",
    "\n",
    "<hr style=\"height:2px;\">"
   ]
  },
  {
   "cell_type": "markdown",
   "id": "90bbe5e0",
   "metadata": {
    "lines_to_next_cell": 2
   },
   "source": [
    "## Section 2: Augmentation\n",
    "Often our models will perform better on the evaluation dataset if we augment our training data.\n",
    "This is because the model will be exposed to a wider variety of data that will hopefully help\n",
    "cover the full distribution of data in the validation set. We will use the <code style=\"color: black\">torchvision.transforms.v2</code> modules\n",
    "to augment our data."
   ]
  },
  {
   "cell_type": "markdown",
   "id": "640e4ce8",
   "metadata": {},
   "source": [
    "PS: PyTorch already has quite a few possible data transforms, so if you need one, check\n",
    "[here](https://pytorch.org/vision/stable/transforms.html#transforms-on-pil-image-and-torch-tensor).\n",
    "The biggest problem with them is that they are clearly separated into transforms applied to PIL\n",
    "images (remember, we initially load the images as PIL.Image?) and torch.tensors (remember, we\n",
    "converted the images into tensors by calling transforms.ToTensor()?). This can be incredibly\n",
    "annoying if for some reason you might need to transorm your images to tensors before applying any\n",
    "other transforms or you don't want to use PIL library at all."
   ]
  },
  {
   "cell_type": "markdown",
   "id": "5068d22e",
   "metadata": {},
   "source": [
    "Here is an example augmented dataset. Use it to see how it affects your data, then play around with at least\n",
    "2 other augmentations.\n",
    "There are two types of augmentations: <code style=\"color: black\">transform</code> and <code style=\"color: black\">img_transform</code>. The first one is applied to both the\n",
    "image and the mask, the second is only applied to the image. This is useful if you want to apply augmentations\n",
    "that spatially distort your data and you want to make sure the same distortion is applied to the mask and image.\n",
    "<code style=\"color: black\">img_transform</code> is useful for augmentations that don't make sense to apply to the mask, like blurring."
   ]
  },
  {
   "cell_type": "code",
   "execution_count": null,
   "id": "58b63150",
   "metadata": {},
   "outputs": [],
   "source": [
    "train_data = NucleiDataset(\"nuclei_train_data\", transforms_v2.RandomCrop(256))\n",
    "\n",
    "# Note this augmented data uses extreme augmentations for visualization. It will not train well\n",
    "example_augmented_data = NucleiDataset(\n",
    "    root_dir=\"nuclei_train_data\",\n",
    "    transform=transforms_v2.Compose(\n",
    "        [transforms_v2.RandomRotation(45), transforms_v2.RandomCrop(256)]\n",
    "    ),\n",
    "    img_transform=transforms_v2.Compose([transforms_v2.GaussianBlur(21, sigma=10.0)]),\n",
    ")"
   ]
  },
  {
   "cell_type": "code",
   "execution_count": null,
   "id": "e8b1162c",
   "metadata": {},
   "outputs": [],
   "source": [
    "show_random_augmentation_comparison(train_data, example_augmented_data)"
   ]
  },
  {
   "cell_type": "markdown",
   "id": "8b3c223b",
   "metadata": {},
   "source": [
    "<div class=\"alert alert-block alert-info\">\n",
    "    <b>Task 2.1</b>: Now create an augmented dataset with an augmentation of your choice.\n",
    "      **hint**: Using the same augmentation as was applied to the validation data will\n",
    "     likely be optimal. Bonus points if you can get good results without the custom noise.\n",
    "</div>"
   ]
  },
  {
   "cell_type": "code",
   "execution_count": null,
   "id": "907dd76f",
   "metadata": {
    "lines_to_next_cell": 2,
    "tags": [
     "solution"
    ]
   },
   "outputs": [],
   "source": [
    "augmented_data = NucleiDataset(\n",
    "    \"nuclei_train_data\",\n",
    "    transforms_v2.Compose(\n",
    "        [transforms_v2.RandomRotation(45), transforms_v2.RandomCrop(256)]\n",
    "    ),\n",
    "    img_transform=transforms_v2.Compose([transforms_v2.Lambda(salt_and_pepper_noise)]),\n",
    ")"
   ]
  },
  {
   "cell_type": "markdown",
   "id": "b08ede2d",
   "metadata": {
    "lines_to_next_cell": 2
   },
   "source": [
    "<div class=\"alert alert-block alert-info\">\n",
    "    <b>Task 2.2</b>: Now retrain your model with your favorite augmented dataset. Did your model improve?\n",
    "</div>"
   ]
  },
  {
   "cell_type": "code",
   "execution_count": null,
   "id": "7578c3b6",
   "metadata": {
    "tags": [
     "solution"
    ]
   },
   "outputs": [],
   "source": [
    "\n",
    "unet = UNet(depth=4, in_channels=1, out_channels=1, num_fmaps=2).to(device)\n",
    "loss = nn.MSELoss()\n",
    "optimizer = torch.optim.Adam(unet.parameters())\n",
    "augmented_loader = DataLoader(augmented_data, batch_size=5, shuffle=True, num_workers=8)\n",
    "\n",
    "for epoch in range(10):\n",
    "    train(unet, augmented_loader, optimizer, loss, epoch, device=device)"
   ]
  },
  {
   "cell_type": "markdown",
   "id": "a4533d5c",
   "metadata": {},
   "source": [
    "<div class=\"alert alert-block alert-info\">\n",
    "    <b>Task 2.3</b>: Now evaluate your model. Did your model improve?\n",
    "</div>"
   ]
  },
  {
   "cell_type": "code",
   "execution_count": null,
   "id": "d11d6d81",
   "metadata": {
    "tag": [
     "task"
    ]
   },
   "outputs": [],
   "source": [
    "validate(...)"
   ]
  },
  {
   "cell_type": "code",
   "execution_count": null,
   "id": "3fab3549",
   "metadata": {
    "tags": [
     "solution"
    ]
   },
   "outputs": [],
   "source": [
    "validate(unet, val_loader, loss, DiceCoefficient(), device=device)"
   ]
  },
  {
   "cell_type": "markdown",
   "id": "3c36344e",
   "metadata": {
    "tags": [
     "solution"
    ]
   },
   "source": [
    "<hr style=\"height:2px;\">"
   ]
  },
  {
   "cell_type": "markdown",
   "id": "eb1dafe6",
   "metadata": {},
   "source": [
    "## Section 3: Loss Functions"
   ]
  },
  {
   "cell_type": "markdown",
   "id": "210c359a",
   "metadata": {},
   "source": [
    "The next step to do would be to improve our loss function - the metric that tells us how\n",
    "close we are to the desired output. This metric should be differentiable, since this\n",
    "is the value to be backpropagated. The are\n",
    "[multiple losses](https://lars76.github.io/2018/09/27/loss-functions-for-segmentation.html)\n",
    "we could use for the segmentation task.\n",
    "\n",
    "Take a moment to think which one is better to use. If you are not sure, don't forget\n",
    "that you can always google! Before you start implementing the loss yourself, take a look\n",
    "at the [losses](https://pytorch.org/docs/stable/nn.html#loss-functions) already implemented\n",
    "in PyTorch. You can also look for implementations on GitHub."
   ]
  },
  {
   "cell_type": "markdown",
   "id": "2eaae5e4",
   "metadata": {},
   "source": [
    "<div class=\"alert alert-block alert-info\">\n",
    "    <b>Task 3.1</b>: Implement your loss (or take one from pytorch):\n",
    "</div>"
   ]
  },
  {
   "cell_type": "code",
   "execution_count": null,
   "id": "178acdfd",
   "metadata": {
    "tags": [
     "solution"
    ]
   },
   "outputs": [],
   "source": [
    "# implement your loss here or initialize the one of your choice from PyTorch\n",
    "loss_function: torch.nn.Module = nn.BCELoss()"
   ]
  },
  {
   "cell_type": "markdown",
   "id": "89739bf5",
   "metadata": {},
   "source": [
    "<div class=\"alert alert-block alert-warning\">\n",
    "    Test your loss function here, is it behaving as you'd expect?\n",
    "</div>"
   ]
  },
  {
   "cell_type": "code",
   "execution_count": null,
   "id": "3c863f9c",
   "metadata": {},
   "outputs": [],
   "source": [
    "target = torch.tensor([0.0, 1.0])\n",
    "good_prediction = torch.tensor([0.01, 0.99])\n",
    "bad_prediction = torch.tensor([0.4, 0.6])\n",
    "wrong_prediction = torch.tensor([0.9, 0.1])\n",
    "\n",
    "good_loss = loss_function(good_prediction, target)\n",
    "bad_loss = loss_function(bad_prediction, target)\n",
    "wrong_loss = loss_function(wrong_prediction, target)\n",
    "\n",
    "assert good_loss < bad_loss\n",
    "assert bad_loss < wrong_loss\n",
    "\n",
    "# Can your loss function handle predictions outside of (0, 1)?\n",
    "# Some loss functions will be perfectly happy with this which may\n",
    "# make them easier to work with, but predictions outside the expected\n",
    "# range will not work well with our soon to be discussed evaluation metric.\n",
    "out_of_bounds_prediction = torch.tensor([-0.1, 1.1])\n",
    "\n",
    "try:\n",
    "    oob_loss = loss_function(out_of_bounds_prediction, target)\n",
    "    print(\"Your loss supports out-of-bounds predictions.\")\n",
    "except RuntimeError as e:\n",
    "    print(e)\n",
    "    print(\"Your loss does not support out-of-bounds predictions\")"
   ]
  },
  {
   "cell_type": "markdown",
   "id": "cea10695",
   "metadata": {},
   "source": [
    "Pay close attention to whether your loss function can handle predictions outside of the range (0, 1).\n",
    "If it can't, theres a good chance that the activation function requires a specific activation before\n",
    "being passed into the loss function. This is a common source of bugs in DL models. For example, trying\n",
    "to use the <code style=\"color: black\">torch.nn.BCEWithLogitsLoss</code> loss function with a model that has a sigmoid activation will\n",
    "result in abysmal performance, wheras using the <code style=\"color: black\">torch.nn.BCELoss</code> loss function with a model that has\n",
    "no activation function will likely error out and fail to train."
   ]
  },
  {
   "cell_type": "code",
   "execution_count": null,
   "id": "4ed736d1",
   "metadata": {
    "lines_to_next_cell": 2
   },
   "outputs": [],
   "source": [
    "# Now lets start experimenting. Start a tensorboard logger to keep track of experiments.\n",
    "# start a tensorboard writer\n",
    "logger = SummaryWriter(\"runs/Unet\")\n",
    "\n",
    "\n",
    "# Function to find an available port and launch TensorBoard on the browser\n",
    "def launch_tensorboard(log_dir):\n",
    "    import socket\n",
    "\n",
    "    with socket.socket(socket.AF_INET, socket.SOCK_STREAM) as s:\n",
    "        s.bind((\"\", 0))\n",
    "        port = s.getsockname()[1]\n",
    "\n",
    "    tensorboard_cmd = f\"tensorboard --logdir={log_dir} --port={port}\"\n",
    "    process = subprocess.Popen(tensorboard_cmd, shell=True)\n",
    "    print(\n",
    "        f\"TensorBoard started at http://localhost:{port}. \\n\"\n",
    "        \"If you are using VSCode remote session, forward the port using the PORTS tab next to TERMINAL.\"\n",
    "    )\n",
    "    return process\n",
    "\n",
    "\n",
    "launch_tensorboard(\"runs\")"
   ]
  },
  {
   "cell_type": "code",
   "execution_count": null,
   "id": "0b0efcc1",
   "metadata": {
    "lines_to_next_cell": 2
   },
   "outputs": [],
   "source": [
    "model = UNet(\n",
    "    depth=4,\n",
    "    in_channels=1,\n",
    "    out_channels=1,\n",
    "    num_fmaps=2,\n",
    "    final_activation=torch.nn.Sigmoid(),\n",
    ").to(device)\n",
    "\n",
    "# use adam optimizer\n",
    "optimizer = torch.optim.Adam(model.parameters())\n",
    "\n",
    "# build the dice coefficient metric\n",
    "metric = DiceCoefficient()\n",
    "\n",
    "# train for $25$ epochs\n",
    "# during the training you can inspect the\n",
    "# predictions in the tensorboard\n",
    "n_epochs = 25\n",
    "for epoch in range(n_epochs):\n",
    "    # train\n",
    "    train(\n",
    "        model,\n",
    "        train_loader,\n",
    "        optimizer=optimizer,\n",
    "        loss_function=loss_function,\n",
    "        epoch=epoch,\n",
    "        log_interval=25,\n",
    "        tb_logger=logger,\n",
    "        device=device,\n",
    "    )\n",
    "    step = epoch * len(train_loader)\n",
    "    # validate\n",
    "    validate(model, val_loader, loss_function, metric, step=step, tb_logger=logger)"
   ]
  },
  {
   "cell_type": "markdown",
   "id": "9bae91fd",
   "metadata": {
    "lines_to_next_cell": 2
   },
   "source": [
    "Check the value of your validation metric at end of the training. Even if the number seems good enough,\n",
    "an equally important thing to check is: Open the Images tab in your Tensorboard and compare\n",
    "predictions to targets. Do your predictions look reasonable? Are there any obvious failure cases?\n",
    "If nothing is clearly wrong, let's see if we can still improve the model performance by changing\n",
    "the model or the loss\n"
   ]
  },
  {
   "cell_type": "markdown",
   "id": "9788ce2e",
   "metadata": {},
   "source": [
    "<div class=\"alert alert-block alert-success\">\n",
    "    <h2>Checkpoint 3</h2>\n",
    "\n",
    "This is the end of Part I (semantic segmentation). We will go over all of the code up until this point shortly.\n",
    "While you wait you are encouraged to try alternative loss functions, evaluation metrics, augmentations,\n",
    "and networks. After this come additional exercises if you are interested and have the time.\n",
    "\n",
    "</div>\n",
    "<hr style=\"height:2px;\">"
   ]
  },
  {
   "cell_type": "markdown",
   "id": "baeb1378",
   "metadata": {},
   "source": [
    "## Additional Exercises\n",
    "\n",
    "1. Modify and evaluate the following architecture variants of the U-Net:\n",
    "    * use [GroupNorm](https://pytorch.org/docs/stable/nn.html#torch.nn.GroupNorm) to normalize convolutional group inputs\n",
    "    * use more layers in your U-Net.\n",
    "\n",
    "2. Use the Dice Coefficient as loss function. Before we only used it for validation, but it is differentiable\n",
    "and can thus also be used as loss. Compare to the results from exercise 2.\n",
    "Hint: The optimizer we use finds minima of the loss, but the minimal value for the Dice coefficient corresponds\n",
    "to a bad segmentation. How do we need to change the Dice Coefficient to use it as loss nonetheless?\n",
    "\n",
    "3. Compare the results of these trainings to the first one. If any of the modifications you've implemented show\n",
    "better results, combine them (e.g. add both GroupNorm and one more layer) and run trainings again.\n",
    "What is the best result you could get?"
   ]
  },
  {
   "cell_type": "markdown",
   "id": "2ce8cd90",
   "metadata": {
    "lines_to_next_cell": 2
   },
   "source": [
    "\n",
    "<div class=\"alert alert-block alert-info\">\n",
    "    <b>Task BONUS.1</b>: Modify the ConvBlockGN class in bonus_unet.py to include GroupNorm layers. Then update the UNetGN class to use the modified ConvBlock\n",
    "</div>"
   ]
  },
  {
   "cell_type": "code",
   "execution_count": null,
   "id": "8bad446f",
   "metadata": {},
   "outputs": [],
   "source": [
    "# See the original U-Net for an example of how to build the convolutional block\n",
    "# We want operation -> activation -> normalization (2x)\n",
    "# Hint: Group norm takes a \"num_groups\" argument. Use 2 to match the solution\n",
    "# Task: Modify the bonus_unet.py file as needed and save the changes before you run this cell\n",
    "\n",
    "from bonus_unet import UNetGN"
   ]
  },
  {
   "cell_type": "code",
   "execution_count": null,
   "id": "4e500898",
   "metadata": {
    "tags": [
     "solution"
    ]
   },
   "outputs": [],
   "source": [
    "\"\"\"\n",
    "Changes to make to the ConvBlockGN class in bonus_unet.py:\n",
    "\n",
    "        self.conv_pass = torch.nn.Sequential(\n",
    "            ...\n",
    "        )\n",
    "    becomes:\n",
    "        self.conv_pass = torch.nn.Sequential(\n",
    "            convops[ndim](\n",
    "                in_channels, out_channels, kernel_size=kernel_size, padding=padding\n",
    "            ),\n",
    "            torch.nn.ReLU(),\n",
    "            torch.nn.GroupNorm(2, out_channels),\n",
    "            convops[ndim](\n",
    "                out_channels, out_channels, kernel_size=kernel_size, padding=padding\n",
    "            ),\n",
    "            torch.nn.ReLU(),\n",
    "            torch.nn.GroupNorm(2, out_channels),\n",
    "        )\n",
    "\n",
    "\n",
    "Changes to make to the UNetGN class in bonus_unet.py:\n",
    "\n",
    "    lines 231 and 241: change `ConvBlock` to `ConvBlockGN`\n",
    "\n",
    "\"\"\"\n",
    "\n",
    "from bonus_unet import UNetGN"
   ]
  },
  {
   "cell_type": "code",
   "execution_count": null,
   "id": "9f77b846",
   "metadata": {
    "lines_to_next_cell": 2
   },
   "outputs": [],
   "source": [
    "model = UNetGN(\n",
    "    depth=4,\n",
    "    in_channels=1,\n",
    "    out_channels=1,\n",
    "    num_fmaps=2,\n",
    "    final_activation=torch.nn.Sigmoid(),\n",
    ").to(device)\n",
    "\n",
    "optimizer = torch.optim.Adam(model.parameters())\n",
    "\n",
    "metric = DiceCoefficient()\n",
    "\n",
    "logger = SummaryWriter(\"runs/UNetGN\")\n",
    "\n",
    "\n",
    "# train for 40 epochs\n",
    "# during the training you can inspect the\n",
    "# predictions in the tensorboard\n",
    "n_epochs = 40\n",
    "for epoch in range(n_epochs):\n",
    "    train(\n",
    "        model,\n",
    "        train_loader,\n",
    "        optimizer=optimizer,\n",
    "        loss_function=loss_function,\n",
    "        epoch=epoch,\n",
    "        log_interval=5,\n",
    "        tb_logger=logger,\n",
    "        device=device,\n",
    "    )\n",
    "    step = epoch * len(train_loader)\n",
    "    validate(\n",
    "        model,\n",
    "        val_loader,\n",
    "        loss_function,\n",
    "        metric,\n",
    "        step=step,\n",
    "        tb_logger=logger,\n",
    "        device=device,\n",
    "    )"
   ]
  },
  {
   "cell_type": "markdown",
   "id": "3fcd89dc",
   "metadata": {},
   "source": [
    "<div class=\"alert alert-block alert-info\">\n",
    "    <b>Task BONUS.2</b>: More Layers\n",
    "</div>"
   ]
  },
  {
   "cell_type": "code",
   "execution_count": null,
   "id": "7e50c9d5",
   "metadata": {
    "tags": [
     "solution"
    ]
   },
   "outputs": [],
   "source": [
    "# Experiment with more layers. For example UNet with depth 5\n",
    "\n",
    "model = UNet(\n",
    "    depth=5,\n",
    "    in_channels=1,\n",
    "    out_channels=1,\n",
    "    num_fmaps=2,\n",
    "    final_activation=torch.nn.Sigmoid(),\n",
    ").to(device)\n",
    "\n",
    "optimizer = torch.optim.Adam(model.parameters())\n",
    "\n",
    "metric = DiceCoefficient()\n",
    "\n",
    "loss = torch.nn.BCELoss()\n",
    "\n",
    "logger = SummaryWriter(\"runs/UNet5layers\")"
   ]
  },
  {
   "cell_type": "code",
   "execution_count": null,
   "id": "5069605c",
   "metadata": {
    "lines_to_next_cell": 2
   },
   "outputs": [],
   "source": [
    "# train for 25 epochs\n",
    "# during the training you can inspect the\n",
    "# predictions in the tensorboard\n",
    "n_epochs = 25\n",
    "for epoch in range(n_epochs):\n",
    "    train(\n",
    "        model,\n",
    "        train_loader,\n",
    "        optimizer=optimizer,\n",
    "        loss_function=loss,\n",
    "        epoch=epoch,\n",
    "        log_interval=5,\n",
    "        tb_logger=logger,\n",
    "        device=device,\n",
    "    )\n",
    "    step = epoch * len(train_loader)\n",
    "    validate(\n",
    "        model, val_loader, loss, metric, step=step, tb_logger=logger, device=device\n",
    "    )"
   ]
  },
  {
   "cell_type": "markdown",
   "id": "48e2d9ac",
   "metadata": {
    "lines_to_next_cell": 2
   },
   "source": [
    "<div class=\"alert alert-block alert-info\">\n",
    "    <b>Task BONUS.3</b>: Dice Loss\n",
    "    Dice Loss is a simple inversion of the Dice Coefficient.\n",
    "    We already have a Dice Coefficient implementation, so now we just\n",
    "    need a layer that can invert it.\n",
    "</div>"
   ]
  },
  {
   "cell_type": "code",
   "execution_count": null,
   "id": "181e8696",
   "metadata": {
    "tags": [
     "solution"
    ]
   },
   "outputs": [],
   "source": [
    "class DiceLoss(nn.Module):\n",
    "    \"\"\"\n",
    "    This layer will simply compute the dice coefficient and then negate\n",
    "    it with an optional offset.\n",
    "    We support an optional offset because it is common to have 0 as\n",
    "    the optimal loss. Since the optimal dice coefficient is 1, it is\n",
    "    convenient to get 1 - dice_coefficient as our loss.\n",
    "\n",
    "    You could leave off the offset and simply have -1 as your optimal loss.\n",
    "    \"\"\"\n",
    "\n",
    "    def __init__(self, offset: float = 1):\n",
    "        super().__init__()\n",
    "        self.offset = torch.nn.Parameter(torch.tensor(offset), requires_grad=False)\n",
    "        self.dice_coefficient = DiceCoefficient()\n",
    "\n",
    "    def forward(self, x, y):\n",
    "        coefficient = self.dice_coefficient(x, y)\n",
    "        return self.offset - coefficient"
   ]
  },
  {
   "cell_type": "code",
   "execution_count": null,
   "id": "3b17cd33",
   "metadata": {
    "tags": [
     "solution"
    ]
   },
   "outputs": [],
   "source": [
    "# Now combine the Dice Coefficient layer with the Invert layer to make a Dice Loss\n",
    "dice_loss = DiceLoss()"
   ]
  },
  {
   "cell_type": "code",
   "execution_count": null,
   "id": "4adfc1f6",
   "metadata": {
    "tags": [
     "solution"
    ]
   },
   "outputs": [],
   "source": [
    "# Experiment with Dice Loss\n",
    "net = UNet(\n",
    "    depth=4,\n",
    "    in_channels=1,\n",
    "    out_channels=1,\n",
    "    num_fmaps=2,\n",
    "    final_activation=torch.nn.Sigmoid(),\n",
    ").to(device)\n",
    "optimizer = torch.optim.Adam(net.parameters())\n",
    "metric = DiceCoefficient()\n",
    "loss_func = dice_loss"
   ]
  },
  {
   "cell_type": "code",
   "execution_count": null,
   "id": "a0cce1ed",
   "metadata": {},
   "outputs": [],
   "source": [
    "logger = SummaryWriter(\"runs/UNet_diceloss\")\n",
    "\n",
    "n_epochs = 40\n",
    "for epoch in range(n_epochs):\n",
    "    train(\n",
    "        net,\n",
    "        train_loader,\n",
    "        optimizer=optimizer,\n",
    "        loss_function=loss_func,\n",
    "        epoch=epoch,\n",
    "        log_interval=5,\n",
    "        tb_logger=logger,\n",
    "        device=device,\n",
    "    )\n",
    "    step = epoch * len(train_loader)\n",
    "    validate(\n",
    "        net, val_loader, loss_func, metric, step=step, tb_logger=logger, device=device\n",
    "    )"
   ]
  },
  {
   "cell_type": "markdown",
   "id": "a0e33565",
   "metadata": {
    "lines_to_next_cell": 2
   },
   "source": [
    "<div class=\"alert alert-block alert-info\">\n",
    "    <b>Task BONUS.4</b>: Group Norm + Dice\n",
    "</div>"
   ]
  },
  {
   "cell_type": "code",
   "execution_count": null,
   "id": "b866a679",
   "metadata": {
    "tags": [
     "solution"
    ]
   },
   "outputs": [],
   "source": [
    "net = UNetGN(\n",
    "    depth=4,\n",
    "    in_channels=1,\n",
    "    out_channels=1,\n",
    "    num_fmaps=2,\n",
    "    final_activation=torch.nn.Sigmoid(),\n",
    ").to(device)\n",
    "optimizer = torch.optim.Adam(net.parameters())\n",
    "metric = DiceCoefficient()\n",
    "loss_func = dice_loss"
   ]
  },
  {
   "cell_type": "code",
   "execution_count": null,
   "id": "8ad71fd6",
   "metadata": {
    "lines_to_next_cell": 2
   },
   "outputs": [],
   "source": [
    "logger = SummaryWriter(\"runs/UNetGN_diceloss\")\n",
    "\n",
    "n_epochs = 40\n",
    "for epoch in range(n_epochs):\n",
    "    train(\n",
    "        net,\n",
    "        train_loader,\n",
    "        optimizer=optimizer,\n",
    "        loss_function=loss_func,\n",
    "        epoch=epoch,\n",
    "        log_interval=5,\n",
    "        tb_logger=logger,\n",
    "        device=device,\n",
    "    )\n",
    "    step = epoch * len(train_loader)\n",
    "    validate(\n",
    "        net, val_loader, loss_func, metric, step=step, tb_logger=logger, device=device\n",
    "    )"
   ]
  },
  {
   "cell_type": "markdown",
   "id": "e060cd8d",
   "metadata": {},
   "source": [
    "<div class=\"alert alert-block alert-info\">\n",
    "    <b>Task BONUS.5</b>: Group Norm + Dice + U-Net 5 Layers\n",
    "</div>"
   ]
  },
  {
   "cell_type": "code",
   "execution_count": null,
   "id": "bacf0f7a",
   "metadata": {
    "tags": [
     "solution"
    ]
   },
   "outputs": [],
   "source": [
    "net = UNetGN(\n",
    "    depth=5,\n",
    "    in_channels=1,\n",
    "    out_channels=1,\n",
    "    num_fmaps=2,\n",
    "    final_activation=torch.nn.Sigmoid(),\n",
    ").to(device)\n",
    "optimizer = torch.optim.Adam(net.parameters())\n",
    "metric = DiceCoefficient()\n",
    "loss_func = dice_loss\n",
    "\n",
    "logger = SummaryWriter(\"runs/UNet5layersGN_diceloss\")\n",
    "\n",
    "n_epochs = 40\n",
    "for epoch in range(n_epochs):\n",
    "    train(\n",
    "        net,\n",
    "        train_loader,\n",
    "        optimizer=optimizer,\n",
    "        loss_function=loss_func,\n",
    "        epoch=epoch,\n",
    "        log_interval=5,\n",
    "        tb_logger=logger,\n",
    "        device=device,\n",
    "    )\n",
    "    step = epoch * len(train_loader)\n",
    "    validate(\n",
    "        net, val_loader, loss_func, metric, step=step, tb_logger=logger, device=device\n",
    "    )"
   ]
  },
  {
   "cell_type": "markdown",
   "id": "668703c3",
   "metadata": {},
   "source": [
    "# Part II : Instance Segmentation :D\n",
    "\n",
    "So far, we were only interested in <code style=\"color: black\">semantic</code> classes, e.g. foreground / background etc.\n",
    "But in many cases we not only want to know if a certain pixel belongs to a specific class, but also to which unique object (i.e. the task of \"instance segmentation\").\n",
    "\n",
    "For isolated objects, this is trivial, all connected foreground pixels form one instance, yet often instances are very close together or even overlapping. Thus we need to think a bit more how to formulate the targets / loss of our network.\n",
    "\n",
    "Furthermore, in instance segmentation the specific value of each label is arbitrary. Here we label each cell with a number and assign a color to each number giving us a segmentation mask. \"Mask 1\" and \"Mask 2\" are equivalently good segmentations even though the specific label of each cell is arbitrary.\n",
    "\n",
    "| Image | Mask 1| Mask 2|\n",
    "| :-: | :-: | :-: |\n",
    "| ![image](static/figure1/01_instance_image.png) | ![mask1](static/figure1/02_instance_teaser.png) | ![mask2](static/figure1/03_instance_teaser.png) |\n",
    "\n",
    "Once again: THE SPECIFIC VALUES OF THE LABELS ARE ARBITRARY\n",
    "\n",
    "This means that the model will not be able to learn, if tasked to predict the labels directly.\n",
    "\n",
    "Therefore we split the task of instance segmentation in two and introduce an intermediate target which must be:\n",
    "  1) learnable\n",
    "  2) post-processable into an instance segmentation\n",
    "\n",
    "In this exercise we will go over two common intermediate targets (signed distance transform and affinities),\n",
    "as well as the necessary pre and post-processing for obtaining the final segmentations.\n",
    "\n",
    "At the end of the exercise we will also compare to a pre-trained cellpose model."
   ]
  },
  {
   "cell_type": "markdown",
   "id": "d1aa0ecf",
   "metadata": {},
   "source": [
    "## Import Packages"
   ]
  },
  {
   "cell_type": "code",
   "execution_count": null,
   "id": "975975d9",
   "metadata": {},
   "outputs": [],
   "source": [
    "from matplotlib.colors import ListedColormap\n",
    "import numpy as np\n",
    "import os\n",
    "from torch.utils.data import Dataset\n",
    "from scipy.ndimage import distance_transform_edt, map_coordinates\n",
    "from local import train, plot_two, plot_three, plot_four\n",
    "from tqdm import tqdm\n",
    "import tifffile\n",
    "import mwatershed as mws\n",
    "\n",
    "from skimage.filters import threshold_otsu\n",
    "from skimage.morphology import remove_small_objects"
   ]
  },
  {
   "cell_type": "code",
   "execution_count": null,
   "id": "b1615cee",
   "metadata": {},
   "outputs": [],
   "source": [
    "NUM_THREADS = 8\n",
    "NUM_EPOCHS = 80\n",
    "# make sure gpu is available. Please call a TA if this cell fails\n",
    "assert torch.cuda.is_available()"
   ]
  },
  {
   "cell_type": "code",
   "execution_count": null,
   "id": "4de70752",
   "metadata": {
    "lines_to_next_cell": 2
   },
   "outputs": [],
   "source": [
    "# Create a custom label color map for showing instances\n",
    "np.random.seed(1)\n",
    "colors = [[0, 0, 0]] + [list(np.random.choice(range(256), size=3)) for _ in range(254)]\n",
    "label_cmap = ListedColormap(colors)"
   ]
  },
  {
   "cell_type": "markdown",
   "id": "ed61f1ec",
   "metadata": {},
   "source": [
    "## Section 1: Signed Distance Transform (SDT)\n",
    "\n",
    "First, we will use the signed distance transform as an intermediate learning objective.\n",
    "\n",
    "<i>What is the signed distance transform?</i>\n",
    "<br>  - The Signed Distance Transform indicates the distance from each specific pixel to the boundary of objects.\n",
    "<br>  - It is positive for pixels inside objects and negative for pixels outside objects (i.e. in the background).\n",
    "<br>  - Remember that deep learning models work best with normalized values, therefore it is important to scale the distance\n",
    "           transform. For simplicity, things are often scaled between -1 and 1.\n",
    "<br>  - As an example, here, you see the SDT (right) of the target mask (middle), below."
   ]
  },
  {
   "cell_type": "markdown",
   "id": "8026de36",
   "metadata": {},
   "source": [
    "![image](static/figure2/04_instance_sdt.png)\n"
   ]
  },
  {
   "cell_type": "markdown",
   "id": "3f84e113",
   "metadata": {
    "lines_to_next_cell": 2
   },
   "source": [
    "We will now add the code for preparing our data to learn the signed distance transform."
   ]
  },
  {
   "cell_type": "code",
   "execution_count": null,
   "id": "d5854109",
   "metadata": {},
   "outputs": [],
   "source": [
    "def compute_sdt(labels: np.ndarray, scale: int = 5):\n",
    "    \"\"\"Function to compute a signed distance transform.\"\"\"\n",
    "    dims = len(labels.shape)\n",
    "    # Create a placeholder array of infinite distances\n",
    "    distances = np.ones(labels.shape, dtype=np.float32) * np.inf\n",
    "    for axis in range(dims):\n",
    "        # Here we compute the boundaries by shifting the labels and comparing to the original labels\n",
    "        # This can be visualized in 1D as:\n",
    "        # a a a b b c c c\n",
    "        #   a a a b b c c c\n",
    "        #   1 1 0 1 0 1 1\n",
    "        # Applying a half pixel shift makes the result more obvious:\n",
    "        # a a a b b c c c\n",
    "        #  1 1 0 1 0 1 1\n",
    "        bounds = (\n",
    "            labels[*[slice(None) if a != axis else slice(1, None) for a in range(dims)]]\n",
    "            == labels[\n",
    "                *[slice(None) if a != axis else slice(None, -1) for a in range(dims)]\n",
    "            ]\n",
    "        )\n",
    "        # pad to account for the lost pixel\n",
    "        bounds = np.pad(\n",
    "            bounds,\n",
    "            [(1, 1) if a == axis else (0, 0) for a in range(dims)],\n",
    "            mode=\"constant\",\n",
    "            constant_values=1,\n",
    "        )\n",
    "        # compute distances on the boundary mask\n",
    "        axis_distances = distance_transform_edt(bounds)\n",
    "\n",
    "        # compute the coordinates of each original pixel relative to the boundary mask and distance transform.\n",
    "        # Its just a half pixel shift in the axis we computed boundaries for.\n",
    "        coordinates = np.meshgrid(\n",
    "            *[\n",
    "                (\n",
    "                    range(axis_distances.shape[a])\n",
    "                    if a != axis\n",
    "                    else np.linspace(\n",
    "                        0.5, axis_distances.shape[a] - 1.5, labels.shape[a]\n",
    "                    )\n",
    "                )\n",
    "                for a in range(dims)\n",
    "            ],\n",
    "            indexing=\"ij\",\n",
    "        )\n",
    "        coordinates = np.stack(coordinates)\n",
    "\n",
    "        # Interpolate the distances to the original pixel coordinates\n",
    "        sampled = map_coordinates(\n",
    "            axis_distances,\n",
    "            coordinates=coordinates,\n",
    "            order=3,\n",
    "        )\n",
    "\n",
    "        # Update the distances with the minimum distance to a boundary in this axis\n",
    "        distances = np.minimum(distances, sampled)\n",
    "\n",
    "    # Normalize the distances to be between -1 and 1\n",
    "    distances = np.tanh(distances / scale)\n",
    "\n",
    "    # Invert the distances for pixels in the background\n",
    "    distances[labels == 0] *= -1\n",
    "    return distances"
   ]
  },
  {
   "cell_type": "markdown",
   "id": "512e88ae",
   "metadata": {},
   "source": [
    "<div class=\"alert alert-block alert-info\">\n",
    "<b>Task 1.1</b>: Explain the <code style=\"color: black\">compute_sdt</code> from the cell above.\n",
    "</div>"
   ]
  },
  {
   "cell_type": "markdown",
   "id": "ea50af2b",
   "metadata": {},
   "source": [
    "1. _Why do we need to loop over dimensions? Couldn't we compute all at once?_\n",
    "\n",
    "2. _What is the purpose of the pad?_\n",
    "\n",
    "3. _What does meshgrid do?_\n",
    "\n",
    "4. _Why do we use <code style=\"color: black\">map_coordinates</code>?_\n",
    "\n",
    "5. _bonus question: Is the pad sufficient to give us accurate distances at the edge of our image?_"
   ]
  },
  {
   "cell_type": "markdown",
   "id": "0a09dcbb",
   "metadata": {
    "tags": [
     "solution"
    ]
   },
   "source": [
    "1. _Why do we need to loop over dimensions? Couldn't we compute all at once?_\n",
    "To get the distance to boundaries in each axis. Regardless of the shift we choose, we will always miss boundaries that line up perfectly with the offset. (shifting only by (1, 1) will miss diagonal boundaries).\n",
    "\n",
    "2. _What is the purpose of the pad?_\n",
    "We lose a pixel when we compute the boundaries so we need to pad to cover the whole input image.\n",
    "\n",
    "3. _What does meshgrid do?_\n",
    "It computes the index coordinate of every voxel. Offset by half on the dimension along which we computed boundaries because the boundaries sit half way between the voxels on either side of the boundary\n",
    "\n",
    "4. _Why do we use <code style=\"color: black\">map_coordinates</code>?_\n",
    "Boundaries are defined between pixels, not on individual pixels. So the distance from a pixel on a boundary to the boundary should be half of a pixel. Map Coordinates lets us get this interpolation\n",
    "\n",
    "5. _bonus question: Is the pad sufficient to give us accurate distances at the edge of our image?_\n",
    "Kind of. If you assume this is the full image and no data exists outside the provided region, then yes. But if you have a larger image, then you cannot know the distance to the nearest out of view object. It might be visible given one more pixel, or there could never be another object.\n",
    "Depending on how you train, you may need to take this into account."
   ]
  },
  {
   "cell_type": "markdown",
   "id": "7ba79cc5",
   "metadata": {},
   "source": [
    "Below is a quick visualization of the signed distance transform (SDT).\n",
    "<br> Note that the output of the signed distance transform is not binary, a significant difference from semantic segmentation"
   ]
  },
  {
   "cell_type": "code",
   "execution_count": null,
   "id": "12cc4a12",
   "metadata": {
    "lines_to_next_cell": 2
   },
   "outputs": [],
   "source": [
    "# Visualize the signed distance transform using the function you wrote above.\n",
    "\n",
    "root_dir = \"tissuenet_data/train\"  # the directory with all the training samples\n",
    "samples = os.listdir(root_dir)\n",
    "idx = np.random.randint(len(samples) // 3)  # take a random sample.\n",
    "img = tifffile.imread(os.path.join(root_dir, f\"img_{idx}.tif\"))  # get the image\n",
    "label = tifffile.imread(\n",
    "    os.path.join(root_dir, f\"img_{idx}_cyto_masks.tif\")\n",
    ")  # get the image\n",
    "sdt = compute_sdt(label)\n",
    "plot_three(img, label, sdt, label=\"SDT\", label_cmap=label_cmap)"
   ]
  },
  {
   "cell_type": "markdown",
   "id": "7c04c60b",
   "metadata": {},
   "source": [
    "<div class=\"alert alert-block alert-info\">\n",
    "<b>Task 1.2</b>: Explain the scale parameter in <code style=\"color: black\">compute_sdt</code>.\n",
    "</div>"
   ]
  },
  {
   "cell_type": "markdown",
   "id": "0c034ee4",
   "metadata": {
    "tags": [
     "solution"
    ]
   },
   "source": [
    "<b>Questions</b>:\n",
    "1. _Why do we need to normalize the distances between -1 and 1?_\n",
    "  If the closest object to a pixel is outside the receptive field, the model cannot know whether the distance is 100 or 100_000. Squeezing large distances down to 1 or -1 makes the answer less ambiguous.\n",
    "\n",
    "2. _What is the effect of changing the scale value? What do you think is a good default value?_\n",
    "  Increasing the scale is equivalent to having a wider boundary region. 5 seems reasonable."
   ]
  },
  {
   "cell_type": "markdown",
   "id": "5e579017",
   "metadata": {
    "lines_to_next_cell": 2
   },
   "source": [
    "<div class=\"alert alert-block alert-info\">\n",
    "<b>Task 1.3</b>: <br>\n",
    "    Modify the <code style=\"color: black\">SDTDataset</code> class below to produce the paired raw and SDT images.<br>\n",
    "  1. Fill in the <code style=\"color: black\">create_sdt_target</code> method to return an SDT output rather than a label mask.<br>\n",
    "      - You may need to convert the input mask to a numpy array and use the helper function <code style=\"color: black\">self.from_np</code> to convert back to a torch tensor.<br>\n",
    "      - Ensure that all final outputs are of torch tensor type, and are converted to float.<br>\n",
    "  2. Instantiate the dataset with a RandomCrop of size 128 and visualize the output to confirm that the SDT is correct.\n",
    "</div>"
   ]
  },
  {
   "cell_type": "code",
   "execution_count": null,
   "id": "cf9f0852",
   "metadata": {
    "tags": [
     "solution"
    ]
   },
   "outputs": [],
   "source": [
    "class SDTDataset(Dataset):\n",
    "    \"\"\"A PyTorch dataset to load cell images and nuclei masks.\"\"\"\n",
    "\n",
    "    def __init__(self, root_dir, transform=None, img_transform=None, return_mask=False):\n",
    "        self.root_dir = root_dir  # the directory with all the training samples\n",
    "        self.num_samples = len(os.listdir(self.root_dir)) // 3  # list the samples\n",
    "        self.return_mask = return_mask\n",
    "        self.transform = (\n",
    "            transform  # transformations to apply to both inputs and targets\n",
    "        )\n",
    "        self.img_transform = img_transform  # transformations to apply to raw image only\n",
    "        #  transformations to apply just to inputs\n",
    "        inp_transforms = transforms_v2.Compose(\n",
    "            [\n",
    "                transforms_v2.ToDtype(torch.float32, scale=True),\n",
    "                transforms_v2.Normalize([0.5], [0.5]),  # 0.5 = mean and 0.5 = variance\n",
    "            ]\n",
    "        )\n",
    "        self.from_np = transforms_v2.Lambda(lambda x: torch.from_numpy(x))\n",
    "\n",
    "        self.loaded_imgs = [None] * self.num_samples\n",
    "        self.loaded_masks = [None] * self.num_samples\n",
    "        for sample_ind in tqdm(range(self.num_samples), desc=\"Reading Images\"):\n",
    "            img_path = os.path.join(self.root_dir, f\"img_{sample_ind}.tif\")\n",
    "            image = self.from_np(tifffile.imread(img_path))\n",
    "            self.loaded_imgs[sample_ind] = inp_transforms(image)\n",
    "            mask_path = os.path.join(self.root_dir, f\"img_{sample_ind}_cyto_masks.tif\")\n",
    "            mask = self.from_np(tifffile.imread(mask_path))\n",
    "            self.loaded_masks[sample_ind] = mask\n",
    "\n",
    "    # get the total number of samples\n",
    "    def __len__(self):\n",
    "        return self.num_samples\n",
    "\n",
    "    # fetch the training sample given its index\n",
    "    def __getitem__(self, idx):\n",
    "        # We'll be using the Pillow library for reading files\n",
    "        # since many torchvision transforms operate on PIL images\n",
    "        image = self.loaded_imgs[idx]\n",
    "        mask = self.loaded_masks[idx]\n",
    "        if self.transform is not None:\n",
    "            # Note: using seeds to ensure the same random transform is applied to\n",
    "            # the image and mask\n",
    "            seed = torch.seed()\n",
    "            torch.manual_seed(seed)\n",
    "            image = self.transform(image)\n",
    "            torch.manual_seed(seed)\n",
    "            mask = self.transform(mask)\n",
    "        sdt = self.create_sdt_target(mask)\n",
    "        assert sdt.shape == mask.shape\n",
    "        assert isinstance(sdt, torch.Tensor)\n",
    "        assert sdt.dtype == torch.float32\n",
    "        if self.img_transform is not None:\n",
    "            image = self.img_transform(image)\n",
    "        if self.return_mask is True:\n",
    "            return image, mask.unsqueeze(0), sdt.unsqueeze(0)\n",
    "        else:\n",
    "            return image, sdt.unsqueeze(0)\n",
    "\n",
    "    def create_sdt_target(self, mask):\n",
    "        sdt_target_array = compute_sdt(mask.numpy())\n",
    "        sdt_target = self.from_np(sdt_target_array)\n",
    "        return sdt_target.float()"
   ]
  },
  {
   "cell_type": "code",
   "execution_count": null,
   "id": "84a0e73b",
   "metadata": {
    "tags": [
     "solution"
    ]
   },
   "outputs": [],
   "source": [
    "# Create a dataset using a RandomCrop of size 128 (see torchvision.transforms.v2 imported as v2)\n",
    "# documentation here: https://pytorch.org/vision/stable/transforms.html#v2-api-reference-recommended\n",
    "# Visualize the output to confirm your dataset is working.\n",
    "\n",
    "train_data = SDTDataset(\"tissuenet_data/train\", transforms_v2.RandomCrop(128))\n",
    "img, sdt = train_data[10]  # get the image and the distance transform\n",
    "# We use the <code style=\"color: black\">plot_two</code> function (imported in the first cell) to verify that our\n",
    "# dataset solution is correct. The output should show 2 images: the raw image and\n",
    "# the corresponding SDT.\n",
    "plot_two(img, sdt[0], label=\"SDT\")"
   ]
  },
  {
   "cell_type": "markdown",
   "id": "d38ae944",
   "metadata": {
    "tags": [
     "solution"
    ]
   },
   "source": [
    "<div class=\"alert alert-block alert-info\">\n",
    "<b>Task 1.4</b>: Understanding the Dataset.\n",
    "Our Dataset has some features that are not straightforward to understand or justify, and this is a good point\n",
    "to discuss them.\n",
    "\n",
    "1. _What are we doing with the <code style=\"color: black\">seed</code> variable in <code style=\"color: black\">SDTDataset.__getitem__</code> and why? Can you predict what will go wrong when you delete the <code style=\"color: black\">seed</code> code and rerun the previous cells visualization?_\n",
    "The seed variable is used to ensure that the same random transform is applied to the image and mask. If we don't use the seed, the image and mask will be transformed differently, leading to misaligned data.\n",
    "\n",
    "2. _What is the purpose of the <code style=\"color: black\">loaded_imgs</code> and <code style=\"color: black\">loaded_masks</code> lists?_\n",
    "We load the images and masks into memory to avoid reading them from disk every time we access the dataset. This speeds up the training process. GPUs are very fast so\n",
    "we often need to put a lot of thought into how to provide data to them fast enough.\n",
    "\n",
    "</div>"
   ]
  },
  {
   "cell_type": "markdown",
   "id": "7722e897",
   "metadata": {},
   "source": [
    "Next, we will create our training dataset and data loader.\n"
   ]
  },
  {
   "cell_type": "code",
   "execution_count": null,
   "id": "876e5d97",
   "metadata": {},
   "outputs": [],
   "source": [
    "# TODO: You don't have to add extra augmentations, training will work without.\n",
    "# But feel free to experiment here if you want to come back and try to get better results if you have time.\n",
    "train_data = SDTDataset(\"tissuenet_data/train\", transforms_v2.RandomCrop(128))\n",
    "train_loader = DataLoader(\n",
    "    train_data, batch_size=5, shuffle=True, num_workers=NUM_THREADS\n",
    ")"
   ]
  },
  {
   "cell_type": "markdown",
   "id": "9adf5f1e",
   "metadata": {},
   "source": [
    "<div class=\"alert alert-block alert-info\">\n",
    "<b>Task 1.5</b>: Train the U-Net.\n",
    "\n",
    "In the cell below, fill in your code anywhere you see ...\n",
    "\n",
    "In this task, initialize the UNet, specify a loss function, learning rate, and optimizer, and train the model.<br>\n",
    "<br> For simplicity we will use a pre-made training function imported from <code style=\"color: black\">local.py</code>. <br>\n",
    "<u>Hints</u>:<br>\n",
    "  - Loss function - [torch losses](https://pytorch.org/docs/stable/nn.html#loss-functions)\n",
    "  - Optimizer - [torch optimizers](https://pytorch.org/docs/stable/optim.html)\n",
    "  - Final Activation - there are a few options (only one is the best)\n",
    "      - [sigmoid](https://pytorch.org/docs/stable/generated/torch.nn.Sigmoid.html)\n",
    "      - [tanh](https://pytorch.org/docs/stable/generated/torch.nn.Tanh.html#torch.nn.Tanh)\n",
    "      - [relu](https://pytorch.org/docs/stable/generated/torch.nn.ReLU.html#torch.nn.ReLU)\n",
    "</div>"
   ]
  },
  {
   "cell_type": "code",
   "execution_count": null,
   "id": "33216c35",
   "metadata": {
    "tags": [
     "solution"
    ]
   },
   "outputs": [],
   "source": [
    "unet = UNet(\n",
    "    depth=3,\n",
    "    in_channels=2,\n",
    "    out_channels=1,\n",
    "    final_activation=torch.nn.Tanh(),\n",
    "    num_fmaps=16,\n",
    "    fmap_inc_factor=3,\n",
    "    downsample_factor=2,\n",
    "    padding=\"same\",\n",
    ")\n",
    "\n",
    "learning_rate = 1e-4\n",
    "loss = torch.nn.MSELoss()\n",
    "optimizer = torch.optim.Adam(unet.parameters(), lr=learning_rate)\n",
    "\n",
    "for epoch in range(NUM_EPOCHS):\n",
    "    train(\n",
    "        unet,\n",
    "        train_loader,\n",
    "        optimizer,\n",
    "        loss,\n",
    "        epoch,\n",
    "        log_interval=2,\n",
    "        device=device,\n",
    "    )"
   ]
  },
  {
   "cell_type": "markdown",
   "id": "67a96aee",
   "metadata": {},
   "source": [
    "Now, let's apply our trained model and visualize some random samples. <br>\n",
    "First, we create a validation dataset. <br> Next, we sample a random image from the dataset and input into the model."
   ]
  },
  {
   "cell_type": "code",
   "execution_count": null,
   "id": "15b0c87f",
   "metadata": {},
   "outputs": [],
   "source": [
    "val_data = SDTDataset(\"tissuenet_data/test\")\n",
    "unet.eval()\n",
    "idx = np.random.randint(len(val_data))  # take a random sample.\n",
    "image, sdt = val_data[idx]  # get the image and the nuclei masks.\n",
    "image = image.to(device)\n",
    "pred = unet(torch.unsqueeze(image, dim=0))\n",
    "image = np.squeeze(image.cpu())\n",
    "sdt = np.squeeze(sdt.cpu().numpy())\n",
    "pred = np.squeeze(pred.cpu().detach().numpy())\n",
    "plot_three(image, sdt, pred)"
   ]
  },
  {
   "cell_type": "markdown",
   "id": "687b079f",
   "metadata": {},
   "source": [
    "<div class=\"alert alert-block alert-success\">\n",
    "<h2> Checkpoint 1 </h2>\n",
    "\n",
    "At this point we have a model that does what we told it too, but do not yet have a segmentation. <br>\n",
    "In the next section, we will perform some post-processing and obtain segmentations from our predictions."
   ]
  },
  {
   "cell_type": "markdown",
   "id": "22eee305",
   "metadata": {},
   "source": [
    "<hr style=\"height:2px;\">\n",
    "\n",
    "## Section 2: Post-Processing\n",
    "- See here for a nice overview: [open-cv-image watershed](https://docs.opencv.org/4.x/d3/db4/tutorial_py_watershed.html), although the specifics of our code will be slightly different\n",
    "- Given the distance transform (the output of our model), we first need to find the local maxima that will be used as seed points\n",
    "- The watershed algorithm then expands each seed out in a local \"basin\" until the segments touch or the boundary of the object is hit."
   ]
  },
  {
   "cell_type": "markdown",
   "id": "74518d36",
   "metadata": {},
   "source": [
    "<div class=\"alert alert-block alert-info\">\n",
    "<b>Task 2.1</b>: write a function to find the local maxima of the distance transform\n",
    "\n",
    "<u>Hint</u>: Look at the imports. <br>\n",
    "<u>Hint</u>: It is possible to write this function by only adding 2 lines.\n",
    "</div>"
   ]
  },
  {
   "cell_type": "code",
   "execution_count": null,
   "id": "a7581edf",
   "metadata": {
    "tags": [
     "solution"
    ]
   },
   "outputs": [],
   "source": [
    "from scipy.ndimage import label, maximum_filter\n",
    "\n",
    "\n",
    "def find_local_maxima(distance_transform, min_dist_between_points):\n",
    "    \"\"\"\n",
    "    Find the local maxima of the distance transform and generate seed points for our watershed.\n",
    "\n",
    "    inputs:\n",
    "        distance_transform: the distance transform of the image (2D numpy array)\n",
    "        min_dist_between_points: the minimum distance between points (scalar)\n",
    "\n",
    "    returns:\n",
    "        seeds: the seeds for the watershed (2D numpy array with uniquely labelled seed points)\n",
    "        number_of_seeds: the number of seeds (scalar)\n",
    "    \"\"\"\n",
    "\n",
    "    max_filtered = maximum_filter(distance_transform, min_dist_between_points)\n",
    "    maxima = max_filtered == distance_transform\n",
    "    # Uniquely label the local maxima\n",
    "    seeds, number_of_seeds = label(maxima)\n",
    "\n",
    "    return seeds, number_of_seeds"
   ]
  },
  {
   "cell_type": "code",
   "execution_count": null,
   "id": "107705cc",
   "metadata": {},
   "outputs": [],
   "source": [
    "# test your function.\n",
    "from local import test_maximum\n",
    "\n",
    "test_maximum(find_local_maxima)"
   ]
  },
  {
   "cell_type": "markdown",
   "id": "3f479f7e",
   "metadata": {},
   "source": [
    "We now use this function to find the seeds for the watershed."
   ]
  },
  {
   "cell_type": "code",
   "execution_count": null,
   "id": "4827027e",
   "metadata": {},
   "outputs": [],
   "source": [
    "from skimage.segmentation import watershed\n",
    "\n",
    "\n",
    "def watershed_from_boundary_distance(\n",
    "    boundary_distances: np.ndarray,\n",
    "    semantic_segmentation: np.ndarray,\n",
    "    id_offset: float = 0,\n",
    "    min_seed_distance: int = 10,\n",
    "):\n",
    "    \"\"\"Function to compute a watershed from boundary distances.\"\"\"\n",
    "\n",
    "    seeds, n = find_local_maxima(boundary_distances, min_seed_distance)\n",
    "\n",
    "    if n == 0:\n",
    "        return np.zeros(boundary_distances.shape, dtype=np.uint64), id_offset\n",
    "\n",
    "    seeds[seeds != 0] += id_offset\n",
    "\n",
    "    # calculate our segmentation\n",
    "    segmentation = watershed(\n",
    "        boundary_distances.max() - boundary_distances, seeds, mask=semantic_segmentation\n",
    "    )\n",
    "\n",
    "    return segmentation"
   ]
  },
  {
   "cell_type": "markdown",
   "id": "4798bb9e",
   "metadata": {},
   "source": [
    "<div class=\"alert alert-block alert-info\">\n",
    "<b>Task 2.2</b>: <br> Use the model to generate a predicted SDT and then use the watershed function we defined above to post-process the model output into a segmentation\n",
    "</div>"
   ]
  },
  {
   "cell_type": "code",
   "execution_count": null,
   "id": "793b27f3",
   "metadata": {
    "tags": [
     "solution"
    ]
   },
   "outputs": [],
   "source": [
    "idx = np.random.randint(len(val_data))  # take a random sample\n",
    "image, mask = val_data[idx]  # get the image and the nuclei masks\n",
    "\n",
    "# get the model prediction\n",
    "# Hint: make sure set the model to evaluation\n",
    "# Hint: check the dims of the image, remember they should be [batch, channels, x, y]\n",
    "# Hint: remember to move model outputs to the cpu and check their dimensions (as you did in task 1.4 visualization)\n",
    "unet.eval()\n",
    "\n",
    "image = image.to(device)\n",
    "pred = unet(torch.unsqueeze(image, dim=0))\n",
    "\n",
    "image = np.squeeze(image.cpu())\n",
    "mask = np.squeeze(mask.cpu().numpy())\n",
    "pred = np.squeeze(pred.cpu().detach().numpy())\n",
    "\n",
    "# Choose a threshold value to use to get the boundary mask.\n",
    "# Feel free to play around with the threshold.\n",
    "threshold = threshold_otsu(pred)\n",
    "print(f\"Foreground threshold is {threshold:.3f}\")\n",
    "\n",
    "# Get inner mask\n",
    "semantic_segmentation = pred > threshold\n",
    "\n",
    "# Get the segmentation\n",
    "seg = watershed_from_boundary_distance(\n",
    "    pred, semantic_segmentation, min_seed_distance=20\n",
    ")"
   ]
  },
  {
   "cell_type": "code",
   "execution_count": null,
   "id": "61934db3",
   "metadata": {},
   "outputs": [],
   "source": [
    "# Visualize the results\n",
    "\n",
    "plot_four(image, mask, pred, seg, label=\"Target\", cmap=label_cmap)"
   ]
  },
  {
   "cell_type": "markdown",
   "id": "d4b26777",
   "metadata": {},
   "source": [
    "<div class=\"alert alert-block alert-success\">\n",
    "<h2> Checkpoint 2 </h2>"
   ]
  },
  {
   "cell_type": "markdown",
   "id": "68054913",
   "metadata": {},
   "source": [
    "<hr style=\"height:2px;\">\n",
    "\n",
    "## Section 3: Evaluation\n",
    "Many different evaluation metrics exist, and which one you should use is dependant on the specifics of the data.\n",
    "\n",
    "[This website](https://metrics-reloaded.dkfz.de/problem-category-selection) has a good summary of different options."
   ]
  },
  {
   "cell_type": "markdown",
   "id": "bf395bf4",
   "metadata": {},
   "source": [
    "<div class=\"alert alert-block alert-info\">\n",
    "<b>Task 3.1</b>: Take some time to explore metrics-reloaded. This is a very helpful resource for understanding evaluation metrics.\n",
    "\n",
    "Which of the following should we use for our dataset?:\n",
    "  1) [IoU](https://metrics-reloaded.dkfz.de/metric?id=intersection_over_union)\n",
    "  2) [Accuracy](https://metrics-reloaded.dkfz.de/metric?id=accuracy)\n",
    "  3) [Sensitivity](https://metrics-reloaded.dkfz.de/metric?id=sensitivity) and [Specificity](https://metrics-reloaded.dkfz.de/metric?id=specificity@target_value)\n",
    "</div>"
   ]
  },
  {
   "cell_type": "markdown",
   "id": "ede1fe76",
   "metadata": {},
   "source": [
    "We will use Accuracy, Specificity/Precision, and Sensitivity/Recall as our evaluation metrics. IoU is also a good metric to use, but it is more commonly used for semantic segmentation tasks."
   ]
  },
  {
   "cell_type": "markdown",
   "id": "dc6f5a13",
   "metadata": {},
   "source": [
    "<div class=\"alert alert-block alert-info\">\n",
    "<b>Task 3.2</b>: <br> Evaluate metrics for the validation dataset. Fill in the blanks\n",
    "</div>"
   ]
  },
  {
   "cell_type": "code",
   "execution_count": null,
   "id": "2dc14161",
   "metadata": {
    "tags": [
     "solution"
    ]
   },
   "outputs": [],
   "source": [
    "from local import evaluate\n",
    "\n",
    "# Need to re-initialize the dataloader to return masks in addition to SDTs.\n",
    "val_dataset = SDTDataset(\"tissuenet_data/test\", return_mask=True)\n",
    "val_dataloader = DataLoader(\n",
    "    val_dataset, batch_size=1, shuffle=False, num_workers=NUM_THREADS\n",
    ")\n",
    "unet.eval()\n",
    "\n",
    "(\n",
    "    precision_list,\n",
    "    recall_list,\n",
    "    accuracy_list,\n",
    ") = (\n",
    "    [],\n",
    "    [],\n",
    "    [],\n",
    ")\n",
    "for idx, (image, mask, sdt) in enumerate(tqdm(val_dataloader)):\n",
    "    image = image.to(device)\n",
    "    pred = unet(image)\n",
    "\n",
    "    image = np.squeeze(image.cpu())\n",
    "    gt_labels = np.squeeze(mask.cpu().numpy())\n",
    "    pred = np.squeeze(pred.cpu().detach().numpy())\n",
    "\n",
    "    # feel free to try different thresholds\n",
    "    thresh = threshold_otsu(pred)\n",
    "\n",
    "    # get boundary mask\n",
    "    semantic_segmentation = pred > thresh\n",
    "\n",
    "    pred_labels = watershed_from_boundary_distance(\n",
    "        pred, semantic_segmentation, id_offset=0, min_seed_distance=20\n",
    "    )\n",
    "    precision, recall, accuracy = evaluate(gt_labels, pred_labels)\n",
    "    precision_list.append(precision)\n",
    "    recall_list.append(recall)\n",
    "    accuracy_list.append(accuracy)\n",
    "\n",
    "print(f\"Mean Precision is {np.mean(precision_list):.3f}\")\n",
    "print(f\"Mean Recall is {np.mean(recall_list):.3f}\")\n",
    "print(f\"Mean Accuracy is {np.mean(accuracy_list):.3f}\")"
   ]
  },
  {
   "cell_type": "markdown",
   "id": "0324c59c",
   "metadata": {},
   "source": [
    "<div class=\"alert alert-block alert-success\">\n",
    "<h2> Checkpoint 3 </h2>\n",
    "If you reached an accuracy of about 0.4, that is good enough for this exercise. You could definitely get better results if you spend some time improving your training pipeline with any or all of: augmentations, a larger unet, more epochs."
   ]
  },
  {
   "cell_type": "markdown",
   "id": "23f08253",
   "metadata": {},
   "source": [
    "<hr style=\"height:2px;\">\n",
    "\n",
    "## Section 4: Affinities"
   ]
  },
  {
   "cell_type": "markdown",
   "id": "23725485",
   "metadata": {},
   "source": [
    "<i>What are affinities? </i><br>\n",
    "Affinities are a generalization of the a topic that we briefly touched on while computing the signed distance transform.\n",
    "Remember how we created a binary mask defining the boundaries between objects?\n",
    "\n",
    "### 1D\n",
    "```\n",
    "a a a b b c c c\n",
    "  a a a b b c c c\n",
    "  1 1 0 1 0 1 1\n",
    "```\n",
    "and for visualization we can center the affinities:\n",
    "```\n",
    "a a a b b c c c\n",
    " 1 1 0 1 0 1 1\n",
    "```\n",
    "\n",
    "\n",
    "In this example we are shifting the labels by 1 pixel and comparing them to the original labels.\n",
    "We call this an affinity with offset 1. We can also compute affinities with different neighborhoods.\n",
    "For example: an offset of 2 might look like this:\n",
    "```\n",
    "a a a b b c c c\n",
    "    a a a b b c c c\n",
    "    1 0 0 0 0 1\n",
    "```\n",
    "And centering for visualization:\n",
    "```\n",
    "a a a b b c c c\n",
    "  1 0 0 0 0 1\n",
    "```\n",
    "Notice that we are just lengthening the boundary between the objects. Object b that is only 2 pixels wide no longer has any positive affinities :'(\n",
    "\n",
    "### 2D\n",
    "In 2D, we can compute affinities in the same way. We can compute affinities in the x and y directions, as well as diagonally.\n",
    "Consider the offset (1,1). I'll use \"-\" to represent some padding for easier visualization.\n",
    "```\n",
    "a a a b b -\n",
    "a a a b b -\n",
    "c c c b b -\n",
    "c c c b b -\n",
    "- - - - - -\n",
    "```\n",
    "```\n",
    "- - - - - -\n",
    "- a a a b b\n",
    "- a a a b b\n",
    "- c c c b b\n",
    "- c c c b b\n",
    "```\n",
    "```\n",
    "- - - - - -\n",
    "- 1 1 0 1 -\n",
    "- 0 0 0 1 -\n",
    "- 1 1 0 1 -\n",
    "- - - - - -\n",
    "```\n",
    "Now lets look at some real affinities. In the next image we have computed 2 different offsets for our affinities. The first set with offsets (0,1) and (1,0), and the second set with offsets (0,5) and (5,0).\n",
    "Note we call a collection of offsets our affinity \"neighborhood\"."
   ]
  },
  {
   "cell_type": "markdown",
   "id": "676235ff",
   "metadata": {},
   "source": [
    "![image](static/figure3/instance_affinity.png)"
   ]
  },
  {
   "cell_type": "markdown",
   "id": "8c844fa9",
   "metadata": {},
   "source": [
    "What do the colors mean in the affinities plots? We are displaying the affinities as RGB values. But we only have 2 offsets in our neighborhood, so those get assigned R and B. The G channel is faked by setting it to 0 only if both R and B are 0. This makes the background black, and pixels with both x and y affinity (inside our objects) show up white. The exceptions are at the boundaries where we now have either RG or BG (magenta and cyan) representing pixels that are on either the right or bottom boundaries of an object."
   ]
  },
  {
   "cell_type": "markdown",
   "id": "7863557f",
   "metadata": {},
   "source": [
    "Note that the boundaries only show up the side of each object. This is because we usually don't bother centering the affinities. Half voxel shifts would add a lot of unnecessary complexity with unclear benefits to training."
   ]
  },
  {
   "cell_type": "markdown",
   "id": "53d0b72c",
   "metadata": {},
   "source": [
    "The pros and cons of Affinities:\n",
    "- Pros:\n",
    "    - No limitations on shape or size. Blobby objects like nuclei, tiny objects only a pixel wide, and massive objects that could never fit in a field of view, all can be turned into affinities and back perfectly.\n",
    "    - Easy post-processing. We can do a simple watershed to get an initial segmentation. And then we can compute the average affinity between each pair of labels. This is very powerful for processing huge objects in small pieces.\n",
    "- Cons:\n",
    "    - Extreme class imbalance. The affinities are only 0 between objects and in background. This means networks can often learn to predict 1s everywhere and be mostly correct. Thus we always use some form of weighted loss when training affinities.\n",
    "    - Post processing can be sensitive to small errors. A naive agglomeration may merge fragments if a single high affinity edge is predicted between two separate objects, despite potentially thousands of low affinity edges contradicting this signal."
   ]
  },
  {
   "cell_type": "markdown",
   "id": "95571271",
   "metadata": {},
   "source": [
    "Similar to the pipeline used for SDTs, we first need to modify the dataset to produce affinities."
   ]
  },
  {
   "cell_type": "code",
   "execution_count": null,
   "id": "85429286",
   "metadata": {},
   "outputs": [],
   "source": [
    "# create a new dataset for affinities\n",
    "from local import compute_affinities\n",
    "\n",
    "\n",
    "class AffinityDataset(Dataset):\n",
    "    \"\"\"A PyTorch dataset to load cell images and nuclei masks\"\"\"\n",
    "\n",
    "    def __init__(\n",
    "        self,\n",
    "        root_dir,\n",
    "        transform=None,\n",
    "        img_transform=None,\n",
    "        return_mask=False,\n",
    "        weights: bool = False,\n",
    "        neighborhood=None,\n",
    "    ):\n",
    "        self.neighborhood = (\n",
    "            neighborhood\n",
    "            if neighborhood is not None\n",
    "            else [[0, 1], [1, 0], [0, 5], [5, 0]]\n",
    "        )\n",
    "        self.weights = weights\n",
    "        self.root_dir = root_dir  # the directory with all the training samples\n",
    "        self.num_samples = len(os.listdir(self.root_dir)) // 3  # list the samples\n",
    "        self.return_mask = return_mask\n",
    "        self.transform = (\n",
    "            transform  # transformations to apply to both inputs and targets\n",
    "        )\n",
    "        self.img_transform = img_transform  # transformations to apply to raw image only\n",
    "        #  transformations to apply just to inputs\n",
    "        inp_transforms = transforms_v2.Compose(\n",
    "            [\n",
    "                transforms_v2.Normalize([0.5], [0.5]),  # 0.5 = mean and 0.5 = variance\n",
    "            ]\n",
    "        )\n",
    "        self.from_np = transforms_v2.Lambda(lambda x: torch.from_numpy(x))\n",
    "\n",
    "        self.loaded_imgs = [None] * self.num_samples\n",
    "        self.loaded_masks = [None] * self.num_samples\n",
    "        for sample_ind in tqdm(range(self.num_samples)):\n",
    "            img_path = os.path.join(self.root_dir, f\"img_{sample_ind}.tif\")\n",
    "            image = self.from_np(tifffile.imread(img_path))\n",
    "            self.loaded_imgs[sample_ind] = inp_transforms(image)\n",
    "            mask_path = os.path.join(self.root_dir, f\"img_{sample_ind}_cyto_masks.tif\")\n",
    "            mask = self.from_np(tifffile.imread(mask_path))\n",
    "            self.loaded_masks[sample_ind] = mask\n",
    "\n",
    "    # get the total number of samples\n",
    "    def __len__(self):\n",
    "        return self.num_samples\n",
    "\n",
    "    # fetch the training sample given its index\n",
    "    def __getitem__(self, idx):\n",
    "        # We'll be using the Pillow library for reading files\n",
    "        # since many torchvision transforms operate on PIL images\n",
    "        image = self.loaded_imgs[idx]\n",
    "        mask = self.loaded_masks[idx]\n",
    "        if self.transform is not None:\n",
    "            # Note: using seeds to ensure the same random transform is applied to\n",
    "            # the image and mask\n",
    "            seed = torch.seed()\n",
    "            torch.manual_seed(seed)\n",
    "            image = self.transform(image)\n",
    "            torch.manual_seed(seed)\n",
    "            mask = self.transform(mask)\n",
    "        aff_mask = self.create_aff_target(mask)\n",
    "        if self.img_transform is not None:\n",
    "            image = self.img_transform(image)\n",
    "\n",
    "        if self.weights:\n",
    "            weight = torch.zeros_like(aff_mask)\n",
    "            for channel in range(weight.shape[0]):\n",
    "                weight[channel][aff_mask[channel] == 0] = np.clip(\n",
    "                    weight[channel].numel()\n",
    "                    / 2\n",
    "                    / (weight[channel].numel() - weight[channel].sum()),\n",
    "                    0.1,\n",
    "                    10.0,\n",
    "                )\n",
    "                weight[channel][aff_mask[channel] == 1] = np.clip(\n",
    "                    weight[channel].numel() / 2 / weight[channel].sum(), 0.1, 10.0\n",
    "                )\n",
    "\n",
    "            if self.return_mask is True:\n",
    "                return image, mask, aff_mask, weight\n",
    "            else:\n",
    "                return image, aff_mask, weight\n",
    "        else:\n",
    "            if self.return_mask is True:\n",
    "                return image, mask, aff_mask\n",
    "            else:\n",
    "                return image, aff_mask\n",
    "\n",
    "    def create_aff_target(self, mask):\n",
    "        aff_target_array = compute_affinities(np.asarray(mask), self.neighborhood)\n",
    "        aff_target = torch.from_numpy(aff_target_array)\n",
    "        return aff_target.float()"
   ]
  },
  {
   "cell_type": "markdown",
   "id": "643ae1bb",
   "metadata": {},
   "source": [
    "Next we initialize the datasets and data loaders."
   ]
  },
  {
   "cell_type": "code",
   "execution_count": null,
   "id": "c0b42f9f",
   "metadata": {},
   "outputs": [],
   "source": [
    "# Initialize the datasets\n",
    "\n",
    "# TODO: feel free to play around with the neighborhood parameter\n",
    "# The visualization code will break if you change the number of affinities, but feel free to change the magnitudes.\n",
    "# Training will break if you change the number of affinities. It is a simple fix, you will just need to change the number\n",
    "# of output channels the unet produces.\n",
    "\n",
    "neighborhood = [[0, 1], [1, 0], [0, 5], [5, 0]]\n",
    "train_data = AffinityDataset(\n",
    "    \"tissuenet_data/train\",\n",
    "    transforms_v2.RandomCrop(128),\n",
    "    weights=True,\n",
    "    neighborhood=neighborhood,\n",
    ")\n",
    "train_loader = DataLoader(\n",
    "    train_data, batch_size=5, shuffle=True, num_workers=NUM_THREADS\n",
    ")\n",
    "idx = np.random.randint(len(train_data))  # take a random sample\n",
    "img, affinity, weight = train_data[idx]  # get the image and the nuclei masks\n",
    "plot_two(img, affinity, label=\"Affinities\")"
   ]
  },
  {
   "cell_type": "markdown",
   "id": "9a86abfa",
   "metadata": {},
   "source": [
    "<div class=\"alert alert-block alert-info\">\n",
    "<b>Task 4.1</b>: Train a model with affinities as targets.\n",
    "\n",
    "Repurpose the training loop which you used for the SDTs. <br>\n",
    "Think carefully about your final activation and number of out channels. <br>\n",
    "(The best for SDT is not necessarily the best for affinities.)\n",
    "</div>"
   ]
  },
  {
   "cell_type": "code",
   "execution_count": null,
   "id": "eb91b7dd",
   "metadata": {
    "tags": [
     "solution"
    ]
   },
   "outputs": [],
   "source": [
    "\n",
    "unet = UNet(\n",
    "    depth=4,\n",
    "    in_channels=2,\n",
    "    out_channels=len(neighborhood),\n",
    "    final_activation=torch.nn.Sigmoid(),\n",
    "    num_fmaps=16,\n",
    "    fmap_inc_factor=3,\n",
    "    downsample_factor=2,\n",
    "    padding=\"same\",\n",
    ")\n",
    "\n",
    "learning_rate = 1e-4\n",
    "\n",
    "# choose a loss function\n",
    "loss = torch.nn.BCELoss(reduce=False)\n",
    "\n",
    "optimizer = torch.optim.Adam(unet.parameters(), lr=learning_rate)"
   ]
  },
  {
   "cell_type": "code",
   "execution_count": null,
   "id": "6cad652c",
   "metadata": {
    "tags": [
     "solution"
    ]
   },
   "outputs": [],
   "source": [
    "for epoch in range(NUM_EPOCHS):\n",
    "    train(\n",
    "        unet,\n",
    "        train_loader,\n",
    "        optimizer,\n",
    "        loss,\n",
    "        epoch,\n",
    "        log_interval=2,\n",
    "        device=device,\n",
    "    )"
   ]
  },
  {
   "cell_type": "markdown",
   "id": "ba1da8c6",
   "metadata": {},
   "source": [
    "Let's next look at a prediction on a random image.\n",
    "We will be using mutex watershed (see this paper by [Wolf et al.](https://arxiv.org/abs/1904.12654)) for post processing. I won't dive too much into the details, but it is similar to watershed except that it allows edges to have negative weights for handling split errors, and removes the need for finding seed points and having minimum seed distance as a parameter.\n",
    "\n",
    "\n",
    "However this does mean we now need a bias term since if we give it all positive edges (our affinities are in range (0, 1)) everything will be merged into a single object. Thus our bias should be in range (-1, 0), such that we have some positive and some negative affinities.\n",
    "\n",
    "\n",
    "It can also be useful to bias long range affinities more negatively than the short range affinities. The intuition here being that boundaries are often blurry in biology. This means it may not be easy to tell if the neighboring pixel has crossed a boundary, but it is reasonably easy to tell if there is a boundary accross a 5 pixel gap. Similarly, identifying if two pixels belong to the same object is easier, the closer they are to each other. Providing a more negative bias to long range affinities means we bias towards splitting on low long range affinities, and merging on high short range affinities."
   ]
  },
  {
   "cell_type": "code",
   "execution_count": null,
   "id": "1e0c1371",
   "metadata": {},
   "outputs": [],
   "source": [
    "val_data = AffinityDataset(\n",
    "    \"tissuenet_data/test\", transforms_v2.RandomCrop(128), return_mask=True\n",
    ")\n",
    "val_loader = DataLoader(val_data, batch_size=1, shuffle=False, num_workers=8)\n",
    "\n",
    "unet.eval()\n",
    "idx = np.random.randint(len(val_data))  # take a random sample\n",
    "image, gt, affs = val_data[idx]  # get the image and the nuclei masks\n",
    "image = image.to(device)\n",
    "pred = torch.squeeze(unet(torch.unsqueeze(image, dim=0)))\n",
    "image = image.cpu()\n",
    "affs = affs.cpu().numpy()\n",
    "pred = pred.cpu().detach().numpy()\n",
    "gt_labels = gt.cpu().numpy()\n",
    "\n",
    "bias_short = -0.9\n",
    "bias_long = -0.95\n",
    "\n",
    "pred_labels = mws.agglom(\n",
    "    np.array(\n",
    "        [\n",
    "            pred[0] + bias_short,\n",
    "            pred[1] + bias_short,\n",
    "            pred[2] + bias_long,\n",
    "            pred[3] + bias_long,\n",
    "        ]\n",
    "    ).astype(np.float64),\n",
    "    neighborhood,\n",
    ")\n",
    "\n",
    "# Mutex watershed often leads to many tiny fragments due to the fuzziness of our models predictions.\n",
    "# We can add a simple small object filter to get significantly higher accuracy.\n",
    "precision, recall, accuracy = evaluate(gt_labels, pred_labels)\n",
    "print(\n",
    "    f\"Before filter: Precision: {precision:.3f}, Recall: {recall:.3f}, Accuracy: {accuracy:.3f}\"\n",
    ")\n",
    "plot_four(image, affs, pred, pred_labels, label=\"Affinity\", cmap=label_cmap)\n",
    "pred_labels = remove_small_objects(\n",
    "    pred_labels.astype(np.int64), min_size=64, connectivity=1\n",
    ")\n",
    "precision, recall, accuracy = evaluate(gt_labels, pred_labels)\n",
    "print(\n",
    "    f\"After filter: Precision: {precision:.3f}, Recall: {recall:.3f}, Accuracy: {accuracy:.3f}\"\n",
    ")\n",
    "plot_four(image, affs, pred, pred_labels, label=\"Affinity\", cmap=label_cmap)"
   ]
  },
  {
   "cell_type": "markdown",
   "id": "aad14018",
   "metadata": {},
   "source": [
    "Let's also evaluate the model performance."
   ]
  },
  {
   "cell_type": "code",
   "execution_count": null,
   "id": "6a595efa",
   "metadata": {},
   "outputs": [],
   "source": [
    "\n",
    "val_dataset = AffinityDataset(\"tissuenet_data/test\", return_mask=True)\n",
    "val_loader = DataLoader(\n",
    "    val_dataset, batch_size=1, shuffle=False, num_workers=NUM_THREADS\n",
    ")\n",
    "unet.eval()\n",
    "\n",
    "(\n",
    "    precision_list,\n",
    "    recall_list,\n",
    "    accuracy_list,\n",
    ") = (\n",
    "    [],\n",
    "    [],\n",
    "    [],\n",
    ")\n",
    "for idx, (image, mask, _) in enumerate(tqdm(val_dataloader)):\n",
    "    image = image.to(device)\n",
    "\n",
    "    pred = unet(image)\n",
    "\n",
    "    image = np.squeeze(image.cpu())\n",
    "\n",
    "    gt_labels = np.squeeze(mask.cpu().numpy())\n",
    "\n",
    "    pred = np.squeeze(pred.cpu().detach().numpy())\n",
    "\n",
    "    pred_labels = mws.agglom(\n",
    "        np.array(\n",
    "            [\n",
    "                pred[0] + bias_short,\n",
    "                pred[1] + bias_short,\n",
    "                pred[2] + bias_long,\n",
    "                pred[3] + bias_long,\n",
    "            ]\n",
    "        ).astype(np.float64),\n",
    "        neighborhood,\n",
    "    )\n",
    "    pred_labels = remove_small_objects(\n",
    "        pred_labels.astype(np.int64), min_size=64, connectivity=1\n",
    "    )\n",
    "\n",
    "    precision, recall, accuracy = evaluate(gt_labels, pred_labels)\n",
    "    precision_list.append(precision)\n",
    "    recall_list.append(recall)\n",
    "    accuracy_list.append(accuracy)\n",
    "\n",
    "print(f\"Mean Precision is {np.mean(precision_list):.3f}\")\n",
    "print(f\"Mean Recall is {np.mean(recall_list):.3f}\")\n",
    "print(f\"Mean Accuracy is {np.mean(accuracy_list):.3f}\")"
   ]
  },
  {
   "cell_type": "markdown",
   "id": "8f554e85",
   "metadata": {},
   "source": [
    "<hr style=\"height:2px;\">\n",
    "\n",
    "## Bonus: Further reading on Affinities\n",
    "[Here](https://localshapedescriptors.github.io/) is a blog post describing the Local Shape Descriptor method of instance segmentation.\n"
   ]
  },
  {
   "cell_type": "markdown",
   "id": "a29c6409",
   "metadata": {},
   "source": [
    "<div class=\"alert alert-block alert-success\">\n",
    "<h2> Checkpoint 4 </h2>\n",
    "You have now completed the exercise! If you achieved an accuracy of around 0.5, that is pretty decent. If you have time to spare you can try ot push the accuracy higher. I would recommend exploring augmentations (rotations work very nicely for this task), a larger unet, and more epochs, and potentially adjusting the learning rate."
   ]
  },
  {
   "cell_type": "markdown",
   "id": "0e04c7b4",
   "metadata": {},
   "source": [
    "<hr style=\"height:2px;\">\n",
    "\n",
    "## Bonus: Pre-Trained Models\n",
    "Cellpose has an excellent pre-trained model for instance segmentation of cells and nuclei.\n",
    "<br> take a look at the full built-in models and try to apply one to the dataset used in this exercise.\n",
    "<br> -[cellpose github](https://github.com/MouseLand/cellpose)\n",
    "<br> -[cellpose documentation](https://cellpose.readthedocs.io/en/latest/)\n",
    "\n"
   ]
  },
  {
   "cell_type": "code",
   "execution_count": null,
   "id": "e2c64b0a",
   "metadata": {},
   "outputs": [],
   "source": [
    "# Install cellpose.\n",
    "!pip install cellpose"
   ]
  },
  {
   "cell_type": "code",
   "execution_count": null,
   "id": "c375641b",
   "metadata": {},
   "outputs": [],
   "source": [
    "from cellpose import models\n",
    "\n",
    "model = models.CellposeModel(pretrained_model=\"cyto3\", device=device)\n",
    "channels = [[0, 0]]\n",
    "\n",
    "precision_list, recall_list, accuracy_list = [], [], []\n",
    "for idx, (image, mask, _) in enumerate(tqdm(val_loader)):\n",
    "    gt_labels = np.squeeze(mask.cpu().numpy())\n",
    "    image = np.squeeze(image.cpu().numpy())\n",
    "    pred_labels, _, _ = model.eval([image], diameter=None, channels=channels)\n",
    "\n",
    "    precision, recall, accuracy = evaluate(gt_labels, pred_labels[0])\n",
    "    precision_list.append(precision)\n",
    "    recall_list.append(recall)\n",
    "    accuracy_list.append(accuracy)\n",
    "\n",
    "print(f\"Mean Precision is {np.mean(precision_list):.3f}\")\n",
    "print(f\"Mean Recall is {np.mean(recall_list):.3f}\")\n",
    "print(f\"Mean Accuracy is {np.mean(accuracy_list):.3f}\")"
   ]
  },
  {
   "cell_type": "markdown",
   "id": "e890b626",
   "metadata": {},
   "source": []
  }
 ],
 "metadata": {
  "jupytext": {
   "cell_metadata_filter": "all"
  },
  "kernelspec": {
   "display_name": "03-segmentation",
   "language": "python",
   "name": "python3"
  }
 },
 "nbformat": 4,
 "nbformat_minor": 5
}
